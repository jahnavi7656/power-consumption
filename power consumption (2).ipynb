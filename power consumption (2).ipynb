{
 "cells": [
  {
   "cell_type": "code",
   "execution_count": 3,
   "metadata": {},
   "outputs": [
    {
     "data": {
      "text/plain": [
       "'C:\\\\Users\\\\Jahnavi Vennela'"
      ]
     },
     "execution_count": 3,
     "metadata": {},
     "output_type": "execute_result"
    }
   ],
   "source": [
    "import os\n",
    "os.getcwd()"
   ]
  },
  {
   "cell_type": "code",
   "execution_count": 4,
   "metadata": {},
   "outputs": [],
   "source": [
    "os.chdir(\"C:/Users/Jahnavi Vennela/Desktop/datasets\")\n"
   ]
  },
  {
   "cell_type": "code",
   "execution_count": 5,
   "metadata": {},
   "outputs": [
    {
     "data": {
      "text/plain": [
       "'C:\\\\Users\\\\Jahnavi Vennela\\\\Desktop\\\\datasets'"
      ]
     },
     "execution_count": 5,
     "metadata": {},
     "output_type": "execute_result"
    }
   ],
   "source": [
    "os.getcwd()"
   ]
  },
  {
   "cell_type": "code",
   "execution_count": 6,
   "metadata": {},
   "outputs": [
    {
     "data": {
      "text/html": [
       "<div>\n",
       "<style scoped>\n",
       "    .dataframe tbody tr th:only-of-type {\n",
       "        vertical-align: middle;\n",
       "    }\n",
       "\n",
       "    .dataframe tbody tr th {\n",
       "        vertical-align: top;\n",
       "    }\n",
       "\n",
       "    .dataframe thead th {\n",
       "        text-align: right;\n",
       "    }\n",
       "</style>\n",
       "<table border=\"1\" class=\"dataframe\">\n",
       "  <thead>\n",
       "    <tr style=\"text-align: right;\">\n",
       "      <th></th>\n",
       "      <th>users</th>\n",
       "      <th>light</th>\n",
       "      <th>fan</th>\n",
       "      <th>ac</th>\n",
       "      <th>refrigerator</th>\n",
       "      <th>total consumption</th>\n",
       "      <th>festival consumption</th>\n",
       "      <th>region</th>\n",
       "    </tr>\n",
       "  </thead>\n",
       "  <tbody>\n",
       "    <tr>\n",
       "      <th>0</th>\n",
       "      <td>jahnavi</td>\n",
       "      <td>10</td>\n",
       "      <td>50</td>\n",
       "      <td>100</td>\n",
       "      <td>109</td>\n",
       "      <td>269</td>\n",
       "      <td>285</td>\n",
       "      <td>bhel</td>\n",
       "    </tr>\n",
       "    <tr>\n",
       "      <th>1</th>\n",
       "      <td>prathyusha</td>\n",
       "      <td>11</td>\n",
       "      <td>60</td>\n",
       "      <td>101</td>\n",
       "      <td>102</td>\n",
       "      <td>274</td>\n",
       "      <td>299</td>\n",
       "      <td>kphb</td>\n",
       "    </tr>\n",
       "    <tr>\n",
       "      <th>2</th>\n",
       "      <td>vyshnavi</td>\n",
       "      <td>18</td>\n",
       "      <td>55</td>\n",
       "      <td>104</td>\n",
       "      <td>116</td>\n",
       "      <td>293</td>\n",
       "      <td>315</td>\n",
       "      <td>kukatpally</td>\n",
       "    </tr>\n",
       "    <tr>\n",
       "      <th>3</th>\n",
       "      <td>sowmya</td>\n",
       "      <td>23</td>\n",
       "      <td>70</td>\n",
       "      <td>115</td>\n",
       "      <td>111</td>\n",
       "      <td>319</td>\n",
       "      <td>300</td>\n",
       "      <td>kukatpally</td>\n",
       "    </tr>\n",
       "    <tr>\n",
       "      <th>4</th>\n",
       "      <td>swetha</td>\n",
       "      <td>16</td>\n",
       "      <td>65</td>\n",
       "      <td>102</td>\n",
       "      <td>112</td>\n",
       "      <td>295</td>\n",
       "      <td>295</td>\n",
       "      <td>chandanagar</td>\n",
       "    </tr>\n",
       "    <tr>\n",
       "      <th>5</th>\n",
       "      <td>renuka</td>\n",
       "      <td>13</td>\n",
       "      <td>75</td>\n",
       "      <td>98</td>\n",
       "      <td>115</td>\n",
       "      <td>301</td>\n",
       "      <td>310</td>\n",
       "      <td>kukatpally</td>\n",
       "    </tr>\n",
       "    <tr>\n",
       "      <th>6</th>\n",
       "      <td>rummy</td>\n",
       "      <td>22</td>\n",
       "      <td>63</td>\n",
       "      <td>110</td>\n",
       "      <td>109</td>\n",
       "      <td>304</td>\n",
       "      <td>314</td>\n",
       "      <td>kukatpally</td>\n",
       "    </tr>\n",
       "    <tr>\n",
       "      <th>7</th>\n",
       "      <td>bhavya</td>\n",
       "      <td>15</td>\n",
       "      <td>52</td>\n",
       "      <td>118</td>\n",
       "      <td>119</td>\n",
       "      <td>304</td>\n",
       "      <td>320</td>\n",
       "      <td>ameerpet</td>\n",
       "    </tr>\n",
       "    <tr>\n",
       "      <th>8</th>\n",
       "      <td>navya</td>\n",
       "      <td>27</td>\n",
       "      <td>61</td>\n",
       "      <td>112</td>\n",
       "      <td>118</td>\n",
       "      <td>318</td>\n",
       "      <td>340</td>\n",
       "      <td>abids</td>\n",
       "    </tr>\n",
       "    <tr>\n",
       "      <th>9</th>\n",
       "      <td>kowshalya</td>\n",
       "      <td>17</td>\n",
       "      <td>72</td>\n",
       "      <td>114</td>\n",
       "      <td>120</td>\n",
       "      <td>323</td>\n",
       "      <td>345</td>\n",
       "      <td>kukatpally</td>\n",
       "    </tr>\n",
       "    <tr>\n",
       "      <th>10</th>\n",
       "      <td>sravani</td>\n",
       "      <td>20</td>\n",
       "      <td>77</td>\n",
       "      <td>111</td>\n",
       "      <td>100</td>\n",
       "      <td>308</td>\n",
       "      <td>308</td>\n",
       "      <td>abids</td>\n",
       "    </tr>\n",
       "    <tr>\n",
       "      <th>11</th>\n",
       "      <td>sravya</td>\n",
       "      <td>12</td>\n",
       "      <td>66</td>\n",
       "      <td>109</td>\n",
       "      <td>105</td>\n",
       "      <td>292</td>\n",
       "      <td>310</td>\n",
       "      <td>bhel</td>\n",
       "    </tr>\n",
       "    <tr>\n",
       "      <th>12</th>\n",
       "      <td>swathi</td>\n",
       "      <td>18</td>\n",
       "      <td>51</td>\n",
       "      <td>120</td>\n",
       "      <td>114</td>\n",
       "      <td>303</td>\n",
       "      <td>313</td>\n",
       "      <td>kukatpally</td>\n",
       "    </tr>\n",
       "    <tr>\n",
       "      <th>13</th>\n",
       "      <td>kala priya</td>\n",
       "      <td>14</td>\n",
       "      <td>73</td>\n",
       "      <td>119</td>\n",
       "      <td>110</td>\n",
       "      <td>316</td>\n",
       "      <td>320</td>\n",
       "      <td>chandanagar</td>\n",
       "    </tr>\n",
       "    <tr>\n",
       "      <th>14</th>\n",
       "      <td>sarath</td>\n",
       "      <td>21</td>\n",
       "      <td>54</td>\n",
       "      <td>108</td>\n",
       "      <td>115</td>\n",
       "      <td>298</td>\n",
       "      <td>315</td>\n",
       "      <td>bhel</td>\n",
       "    </tr>\n",
       "    <tr>\n",
       "      <th>15</th>\n",
       "      <td>jagadesh</td>\n",
       "      <td>28</td>\n",
       "      <td>62</td>\n",
       "      <td>120</td>\n",
       "      <td>90</td>\n",
       "      <td>300</td>\n",
       "      <td>310</td>\n",
       "      <td>kukatpally</td>\n",
       "    </tr>\n",
       "    <tr>\n",
       "      <th>16</th>\n",
       "      <td>yamini</td>\n",
       "      <td>20</td>\n",
       "      <td>71</td>\n",
       "      <td>111</td>\n",
       "      <td>96</td>\n",
       "      <td>298</td>\n",
       "      <td>298</td>\n",
       "      <td>abids</td>\n",
       "    </tr>\n",
       "    <tr>\n",
       "      <th>17</th>\n",
       "      <td>sailu</td>\n",
       "      <td>27</td>\n",
       "      <td>75</td>\n",
       "      <td>101</td>\n",
       "      <td>94</td>\n",
       "      <td>297</td>\n",
       "      <td>290</td>\n",
       "      <td>kphb</td>\n",
       "    </tr>\n",
       "    <tr>\n",
       "      <th>18</th>\n",
       "      <td>sirisha</td>\n",
       "      <td>17</td>\n",
       "      <td>55</td>\n",
       "      <td>117</td>\n",
       "      <td>92</td>\n",
       "      <td>281</td>\n",
       "      <td>300</td>\n",
       "      <td>bhel</td>\n",
       "    </tr>\n",
       "    <tr>\n",
       "      <th>19</th>\n",
       "      <td>lavanya</td>\n",
       "      <td>12</td>\n",
       "      <td>42</td>\n",
       "      <td>116</td>\n",
       "      <td>110</td>\n",
       "      <td>280</td>\n",
       "      <td>315</td>\n",
       "      <td>kukatpally</td>\n",
       "    </tr>\n",
       "    <tr>\n",
       "      <th>20</th>\n",
       "      <td>tulasi</td>\n",
       "      <td>15</td>\n",
       "      <td>57</td>\n",
       "      <td>115</td>\n",
       "      <td>115</td>\n",
       "      <td>302</td>\n",
       "      <td>312</td>\n",
       "      <td>abids</td>\n",
       "    </tr>\n",
       "    <tr>\n",
       "      <th>21</th>\n",
       "      <td>chandana</td>\n",
       "      <td>11</td>\n",
       "      <td>61</td>\n",
       "      <td>99</td>\n",
       "      <td>120</td>\n",
       "      <td>291</td>\n",
       "      <td>291</td>\n",
       "      <td>chandanagar</td>\n",
       "    </tr>\n",
       "    <tr>\n",
       "      <th>22</th>\n",
       "      <td>meena</td>\n",
       "      <td>10</td>\n",
       "      <td>63</td>\n",
       "      <td>98</td>\n",
       "      <td>96</td>\n",
       "      <td>267</td>\n",
       "      <td>265</td>\n",
       "      <td>ameerpet</td>\n",
       "    </tr>\n",
       "    <tr>\n",
       "      <th>23</th>\n",
       "      <td>meenakshi</td>\n",
       "      <td>17</td>\n",
       "      <td>61</td>\n",
       "      <td>101</td>\n",
       "      <td>116</td>\n",
       "      <td>295</td>\n",
       "      <td>310</td>\n",
       "      <td>ameerpet</td>\n",
       "    </tr>\n",
       "    <tr>\n",
       "      <th>24</th>\n",
       "      <td>praneeth</td>\n",
       "      <td>18</td>\n",
       "      <td>70</td>\n",
       "      <td>105</td>\n",
       "      <td>106</td>\n",
       "      <td>299</td>\n",
       "      <td>312</td>\n",
       "      <td>bhel</td>\n",
       "    </tr>\n",
       "    <tr>\n",
       "      <th>25</th>\n",
       "      <td>rishika</td>\n",
       "      <td>12</td>\n",
       "      <td>72</td>\n",
       "      <td>112</td>\n",
       "      <td>104</td>\n",
       "      <td>300</td>\n",
       "      <td>320</td>\n",
       "      <td>kphb</td>\n",
       "    </tr>\n",
       "    <tr>\n",
       "      <th>26</th>\n",
       "      <td>nikhil</td>\n",
       "      <td>10</td>\n",
       "      <td>51</td>\n",
       "      <td>114</td>\n",
       "      <td>103</td>\n",
       "      <td>278</td>\n",
       "      <td>298</td>\n",
       "      <td>kukatpally</td>\n",
       "    </tr>\n",
       "    <tr>\n",
       "      <th>27</th>\n",
       "      <td>niranjan</td>\n",
       "      <td>9</td>\n",
       "      <td>68</td>\n",
       "      <td>115</td>\n",
       "      <td>111</td>\n",
       "      <td>303</td>\n",
       "      <td>313</td>\n",
       "      <td>chandanagar</td>\n",
       "    </tr>\n",
       "    <tr>\n",
       "      <th>28</th>\n",
       "      <td>gowtham</td>\n",
       "      <td>3</td>\n",
       "      <td>69</td>\n",
       "      <td>122</td>\n",
       "      <td>115</td>\n",
       "      <td>309</td>\n",
       "      <td>319</td>\n",
       "      <td>abids</td>\n",
       "    </tr>\n",
       "    <tr>\n",
       "      <th>29</th>\n",
       "      <td>punarvika</td>\n",
       "      <td>5</td>\n",
       "      <td>64</td>\n",
       "      <td>115</td>\n",
       "      <td>114</td>\n",
       "      <td>298</td>\n",
       "      <td>300</td>\n",
       "      <td>bhel</td>\n",
       "    </tr>\n",
       "    <tr>\n",
       "      <th>30</th>\n",
       "      <td>shabana</td>\n",
       "      <td>10</td>\n",
       "      <td>74</td>\n",
       "      <td>116</td>\n",
       "      <td>116</td>\n",
       "      <td>316</td>\n",
       "      <td>311</td>\n",
       "      <td>kukatpally</td>\n",
       "    </tr>\n",
       "    <tr>\n",
       "      <th>31</th>\n",
       "      <td>bhavana</td>\n",
       "      <td>18</td>\n",
       "      <td>76</td>\n",
       "      <td>119</td>\n",
       "      <td>118</td>\n",
       "      <td>331</td>\n",
       "      <td>340</td>\n",
       "      <td>kphb</td>\n",
       "    </tr>\n",
       "    <tr>\n",
       "      <th>32</th>\n",
       "      <td>nava bhanu</td>\n",
       "      <td>21</td>\n",
       "      <td>80</td>\n",
       "      <td>111</td>\n",
       "      <td>117</td>\n",
       "      <td>329</td>\n",
       "      <td>345</td>\n",
       "      <td>kphb</td>\n",
       "    </tr>\n",
       "    <tr>\n",
       "      <th>33</th>\n",
       "      <td>shaheena</td>\n",
       "      <td>28</td>\n",
       "      <td>63</td>\n",
       "      <td>105</td>\n",
       "      <td>120</td>\n",
       "      <td>316</td>\n",
       "      <td>312</td>\n",
       "      <td>bhel</td>\n",
       "    </tr>\n",
       "    <tr>\n",
       "      <th>34</th>\n",
       "      <td>anusha</td>\n",
       "      <td>14</td>\n",
       "      <td>62</td>\n",
       "      <td>106</td>\n",
       "      <td>124</td>\n",
       "      <td>306</td>\n",
       "      <td>306</td>\n",
       "      <td>abids</td>\n",
       "    </tr>\n",
       "    <tr>\n",
       "      <th>35</th>\n",
       "      <td>charitha</td>\n",
       "      <td>7</td>\n",
       "      <td>74</td>\n",
       "      <td>114</td>\n",
       "      <td>122</td>\n",
       "      <td>317</td>\n",
       "      <td>330</td>\n",
       "      <td>ameerpet</td>\n",
       "    </tr>\n",
       "    <tr>\n",
       "      <th>36</th>\n",
       "      <td>chandini</td>\n",
       "      <td>25</td>\n",
       "      <td>68</td>\n",
       "      <td>113</td>\n",
       "      <td>98</td>\n",
       "      <td>304</td>\n",
       "      <td>324</td>\n",
       "      <td>kukatpally</td>\n",
       "    </tr>\n",
       "    <tr>\n",
       "      <th>37</th>\n",
       "      <td>sarvani</td>\n",
       "      <td>20</td>\n",
       "      <td>72</td>\n",
       "      <td>107</td>\n",
       "      <td>100</td>\n",
       "      <td>299</td>\n",
       "      <td>300</td>\n",
       "      <td>chandanagar</td>\n",
       "    </tr>\n",
       "    <tr>\n",
       "      <th>38</th>\n",
       "      <td>pavani</td>\n",
       "      <td>15</td>\n",
       "      <td>80</td>\n",
       "      <td>121</td>\n",
       "      <td>115</td>\n",
       "      <td>331</td>\n",
       "      <td>311</td>\n",
       "      <td>bhel</td>\n",
       "    </tr>\n",
       "    <tr>\n",
       "      <th>39</th>\n",
       "      <td>mounika</td>\n",
       "      <td>13</td>\n",
       "      <td>53</td>\n",
       "      <td>125</td>\n",
       "      <td>110</td>\n",
       "      <td>301</td>\n",
       "      <td>310</td>\n",
       "      <td>ameerpet</td>\n",
       "    </tr>\n",
       "    <tr>\n",
       "      <th>40</th>\n",
       "      <td>dharani</td>\n",
       "      <td>16</td>\n",
       "      <td>68</td>\n",
       "      <td>128</td>\n",
       "      <td>112</td>\n",
       "      <td>324</td>\n",
       "      <td>325</td>\n",
       "      <td>kphb</td>\n",
       "    </tr>\n",
       "    <tr>\n",
       "      <th>41</th>\n",
       "      <td>pujitha</td>\n",
       "      <td>21</td>\n",
       "      <td>78</td>\n",
       "      <td>103</td>\n",
       "      <td>117</td>\n",
       "      <td>319</td>\n",
       "      <td>320</td>\n",
       "      <td>chandanagar</td>\n",
       "    </tr>\n",
       "    <tr>\n",
       "      <th>42</th>\n",
       "      <td>divya</td>\n",
       "      <td>12</td>\n",
       "      <td>68</td>\n",
       "      <td>112</td>\n",
       "      <td>119</td>\n",
       "      <td>311</td>\n",
       "      <td>322</td>\n",
       "      <td>abids</td>\n",
       "    </tr>\n",
       "    <tr>\n",
       "      <th>43</th>\n",
       "      <td>jyothi</td>\n",
       "      <td>19</td>\n",
       "      <td>54</td>\n",
       "      <td>130</td>\n",
       "      <td>121</td>\n",
       "      <td>324</td>\n",
       "      <td>330</td>\n",
       "      <td>kukatpally</td>\n",
       "    </tr>\n",
       "    <tr>\n",
       "      <th>44</th>\n",
       "      <td>salma</td>\n",
       "      <td>15</td>\n",
       "      <td>68</td>\n",
       "      <td>115</td>\n",
       "      <td>120</td>\n",
       "      <td>318</td>\n",
       "      <td>320</td>\n",
       "      <td>ameerpet</td>\n",
       "    </tr>\n",
       "    <tr>\n",
       "      <th>45</th>\n",
       "      <td>gowsia</td>\n",
       "      <td>21</td>\n",
       "      <td>75</td>\n",
       "      <td>114</td>\n",
       "      <td>115</td>\n",
       "      <td>325</td>\n",
       "      <td>325</td>\n",
       "      <td>bhel</td>\n",
       "    </tr>\n",
       "    <tr>\n",
       "      <th>46</th>\n",
       "      <td>bhaji</td>\n",
       "      <td>20</td>\n",
       "      <td>63</td>\n",
       "      <td>119</td>\n",
       "      <td>110</td>\n",
       "      <td>312</td>\n",
       "      <td>312</td>\n",
       "      <td>chandanagar</td>\n",
       "    </tr>\n",
       "    <tr>\n",
       "      <th>47</th>\n",
       "      <td>anjuma</td>\n",
       "      <td>16</td>\n",
       "      <td>74</td>\n",
       "      <td>120</td>\n",
       "      <td>100</td>\n",
       "      <td>310</td>\n",
       "      <td>330</td>\n",
       "      <td>kukatpally</td>\n",
       "    </tr>\n",
       "    <tr>\n",
       "      <th>48</th>\n",
       "      <td>kavya</td>\n",
       "      <td>15</td>\n",
       "      <td>80</td>\n",
       "      <td>115</td>\n",
       "      <td>115</td>\n",
       "      <td>325</td>\n",
       "      <td>325</td>\n",
       "      <td>abids</td>\n",
       "    </tr>\n",
       "    <tr>\n",
       "      <th>49</th>\n",
       "      <td>hemalatha</td>\n",
       "      <td>20</td>\n",
       "      <td>75</td>\n",
       "      <td>115</td>\n",
       "      <td>120</td>\n",
       "      <td>330</td>\n",
       "      <td>350</td>\n",
       "      <td>bhel</td>\n",
       "    </tr>\n",
       "  </tbody>\n",
       "</table>\n",
       "</div>"
      ],
      "text/plain": [
       "         users  light  fan   ac  refrigerator  total consumption  \\\n",
       "0      jahnavi     10   50  100           109                269   \n",
       "1   prathyusha     11   60  101           102                274   \n",
       "2     vyshnavi     18   55  104           116                293   \n",
       "3       sowmya     23   70  115           111                319   \n",
       "4       swetha     16   65  102           112                295   \n",
       "5       renuka     13   75   98           115                301   \n",
       "6        rummy     22   63  110           109                304   \n",
       "7       bhavya     15   52  118           119                304   \n",
       "8        navya     27   61  112           118                318   \n",
       "9    kowshalya     17   72  114           120                323   \n",
       "10     sravani     20   77  111           100                308   \n",
       "11      sravya     12   66  109           105                292   \n",
       "12      swathi     18   51  120           114                303   \n",
       "13  kala priya     14   73  119           110                316   \n",
       "14     sarath      21   54  108           115                298   \n",
       "15    jagadesh     28   62  120            90                300   \n",
       "16      yamini     20   71  111            96                298   \n",
       "17       sailu     27   75  101            94                297   \n",
       "18     sirisha     17   55  117            92                281   \n",
       "19     lavanya     12   42  116           110                280   \n",
       "20      tulasi     15   57  115           115                302   \n",
       "21    chandana     11   61   99           120                291   \n",
       "22       meena     10   63   98            96                267   \n",
       "23   meenakshi     17   61  101           116                295   \n",
       "24    praneeth     18   70  105           106                299   \n",
       "25     rishika     12   72  112           104                300   \n",
       "26      nikhil     10   51  114           103                278   \n",
       "27    niranjan      9   68  115           111                303   \n",
       "28     gowtham      3   69  122           115                309   \n",
       "29   punarvika      5   64  115           114                298   \n",
       "30     shabana     10   74  116           116                316   \n",
       "31     bhavana     18   76  119           118                331   \n",
       "32  nava bhanu     21   80  111           117                329   \n",
       "33    shaheena     28   63  105           120                316   \n",
       "34      anusha     14   62  106           124                306   \n",
       "35    charitha      7   74  114           122                317   \n",
       "36    chandini     25   68  113            98                304   \n",
       "37     sarvani     20   72  107           100                299   \n",
       "38      pavani     15   80  121           115                331   \n",
       "39     mounika     13   53  125           110                301   \n",
       "40     dharani     16   68  128           112                324   \n",
       "41     pujitha     21   78  103           117                319   \n",
       "42       divya     12   68  112           119                311   \n",
       "43      jyothi     19   54  130           121                324   \n",
       "44       salma     15   68  115           120                318   \n",
       "45      gowsia     21   75  114           115                325   \n",
       "46       bhaji     20   63  119           110                312   \n",
       "47      anjuma     16   74  120           100                310   \n",
       "48       kavya     15   80  115           115                325   \n",
       "49   hemalatha     20   75  115           120                330   \n",
       "\n",
       "    festival consumption       region  \n",
       "0                    285         bhel  \n",
       "1                    299         kphb  \n",
       "2                    315   kukatpally  \n",
       "3                    300   kukatpally  \n",
       "4                    295  chandanagar  \n",
       "5                    310   kukatpally  \n",
       "6                    314   kukatpally  \n",
       "7                    320     ameerpet  \n",
       "8                    340        abids  \n",
       "9                    345   kukatpally  \n",
       "10                   308        abids  \n",
       "11                   310         bhel  \n",
       "12                   313   kukatpally  \n",
       "13                   320  chandanagar  \n",
       "14                   315         bhel  \n",
       "15                   310   kukatpally  \n",
       "16                   298        abids  \n",
       "17                   290         kphb  \n",
       "18                   300         bhel  \n",
       "19                   315   kukatpally  \n",
       "20                   312        abids  \n",
       "21                   291  chandanagar  \n",
       "22                   265     ameerpet  \n",
       "23                   310     ameerpet  \n",
       "24                   312         bhel  \n",
       "25                   320         kphb  \n",
       "26                   298   kukatpally  \n",
       "27                   313  chandanagar  \n",
       "28                   319        abids  \n",
       "29                   300         bhel  \n",
       "30                   311   kukatpally  \n",
       "31                   340         kphb  \n",
       "32                   345         kphb  \n",
       "33                   312         bhel  \n",
       "34                   306        abids  \n",
       "35                   330     ameerpet  \n",
       "36                   324   kukatpally  \n",
       "37                   300  chandanagar  \n",
       "38                   311         bhel  \n",
       "39                   310     ameerpet  \n",
       "40                   325         kphb  \n",
       "41                   320  chandanagar  \n",
       "42                   322        abids  \n",
       "43                   330   kukatpally  \n",
       "44                   320     ameerpet  \n",
       "45                   325         bhel  \n",
       "46                   312  chandanagar  \n",
       "47                   330   kukatpally  \n",
       "48                   325        abids  \n",
       "49                   350         bhel  "
      ]
     },
     "execution_count": 6,
     "metadata": {},
     "output_type": "execute_result"
    }
   ],
   "source": [
    "import numpy as np\n",
    "import pandas as pd\n",
    "d1=pd.read_csv(\"Book1.csv\")\n",
    "d1"
   ]
  },
  {
   "cell_type": "code",
   "execution_count": 7,
   "metadata": {},
   "outputs": [
    {
     "data": {
      "text/html": [
       "<div>\n",
       "<style scoped>\n",
       "    .dataframe tbody tr th:only-of-type {\n",
       "        vertical-align: middle;\n",
       "    }\n",
       "\n",
       "    .dataframe tbody tr th {\n",
       "        vertical-align: top;\n",
       "    }\n",
       "\n",
       "    .dataframe thead th {\n",
       "        text-align: right;\n",
       "    }\n",
       "</style>\n",
       "<table border=\"1\" class=\"dataframe\">\n",
       "  <thead>\n",
       "    <tr style=\"text-align: right;\">\n",
       "      <th></th>\n",
       "      <th>light</th>\n",
       "      <th>fan</th>\n",
       "      <th>ac</th>\n",
       "      <th>refrigerator</th>\n",
       "      <th>total consumption</th>\n",
       "      <th>festival consumption</th>\n",
       "    </tr>\n",
       "  </thead>\n",
       "  <tbody>\n",
       "    <tr>\n",
       "      <th>count</th>\n",
       "      <td>50.000000</td>\n",
       "      <td>50.000000</td>\n",
       "      <td>50.000000</td>\n",
       "      <td>50.000000</td>\n",
       "      <td>50.000000</td>\n",
       "      <td>50.000000</td>\n",
       "    </tr>\n",
       "    <tr>\n",
       "      <th>mean</th>\n",
       "      <td>16.340000</td>\n",
       "      <td>65.800000</td>\n",
       "      <td>112.200000</td>\n",
       "      <td>110.920000</td>\n",
       "      <td>305.260000</td>\n",
       "      <td>313.800000</td>\n",
       "    </tr>\n",
       "    <tr>\n",
       "      <th>std</th>\n",
       "      <td>5.727164</td>\n",
       "      <td>9.205145</td>\n",
       "      <td>7.751234</td>\n",
       "      <td>8.618537</td>\n",
       "      <td>15.967838</td>\n",
       "      <td>15.982133</td>\n",
       "    </tr>\n",
       "    <tr>\n",
       "      <th>min</th>\n",
       "      <td>3.000000</td>\n",
       "      <td>42.000000</td>\n",
       "      <td>98.000000</td>\n",
       "      <td>90.000000</td>\n",
       "      <td>267.000000</td>\n",
       "      <td>265.000000</td>\n",
       "    </tr>\n",
       "    <tr>\n",
       "      <th>25%</th>\n",
       "      <td>12.000000</td>\n",
       "      <td>61.000000</td>\n",
       "      <td>106.250000</td>\n",
       "      <td>105.250000</td>\n",
       "      <td>298.000000</td>\n",
       "      <td>306.500000</td>\n",
       "    </tr>\n",
       "    <tr>\n",
       "      <th>50%</th>\n",
       "      <td>16.000000</td>\n",
       "      <td>68.000000</td>\n",
       "      <td>114.000000</td>\n",
       "      <td>114.000000</td>\n",
       "      <td>304.000000</td>\n",
       "      <td>312.500000</td>\n",
       "    </tr>\n",
       "    <tr>\n",
       "      <th>75%</th>\n",
       "      <td>20.000000</td>\n",
       "      <td>73.750000</td>\n",
       "      <td>116.750000</td>\n",
       "      <td>117.000000</td>\n",
       "      <td>317.750000</td>\n",
       "      <td>321.500000</td>\n",
       "    </tr>\n",
       "    <tr>\n",
       "      <th>max</th>\n",
       "      <td>28.000000</td>\n",
       "      <td>80.000000</td>\n",
       "      <td>130.000000</td>\n",
       "      <td>124.000000</td>\n",
       "      <td>331.000000</td>\n",
       "      <td>350.000000</td>\n",
       "    </tr>\n",
       "  </tbody>\n",
       "</table>\n",
       "</div>"
      ],
      "text/plain": [
       "           light        fan          ac  refrigerator  total consumption  \\\n",
       "count  50.000000  50.000000   50.000000     50.000000          50.000000   \n",
       "mean   16.340000  65.800000  112.200000    110.920000         305.260000   \n",
       "std     5.727164   9.205145    7.751234      8.618537          15.967838   \n",
       "min     3.000000  42.000000   98.000000     90.000000         267.000000   \n",
       "25%    12.000000  61.000000  106.250000    105.250000         298.000000   \n",
       "50%    16.000000  68.000000  114.000000    114.000000         304.000000   \n",
       "75%    20.000000  73.750000  116.750000    117.000000         317.750000   \n",
       "max    28.000000  80.000000  130.000000    124.000000         331.000000   \n",
       "\n",
       "       festival consumption  \n",
       "count             50.000000  \n",
       "mean             313.800000  \n",
       "std               15.982133  \n",
       "min              265.000000  \n",
       "25%              306.500000  \n",
       "50%              312.500000  \n",
       "75%              321.500000  \n",
       "max              350.000000  "
      ]
     },
     "execution_count": 7,
     "metadata": {},
     "output_type": "execute_result"
    }
   ],
   "source": [
    "d1.describe()"
   ]
  },
  {
   "cell_type": "code",
   "execution_count": 8,
   "metadata": {},
   "outputs": [
    {
     "data": {
      "text/html": [
       "<div>\n",
       "<style scoped>\n",
       "    .dataframe tbody tr th:only-of-type {\n",
       "        vertical-align: middle;\n",
       "    }\n",
       "\n",
       "    .dataframe tbody tr th {\n",
       "        vertical-align: top;\n",
       "    }\n",
       "\n",
       "    .dataframe thead th {\n",
       "        text-align: right;\n",
       "    }\n",
       "</style>\n",
       "<table border=\"1\" class=\"dataframe\">\n",
       "  <thead>\n",
       "    <tr style=\"text-align: right;\">\n",
       "      <th></th>\n",
       "      <th>light</th>\n",
       "      <th>fan</th>\n",
       "      <th>ac</th>\n",
       "      <th>refrigerator</th>\n",
       "      <th>total consumption</th>\n",
       "      <th>festival consumption</th>\n",
       "    </tr>\n",
       "  </thead>\n",
       "  <tbody>\n",
       "    <tr>\n",
       "      <th>light</th>\n",
       "      <td>1.000000</td>\n",
       "      <td>0.123643</td>\n",
       "      <td>-0.037421</td>\n",
       "      <td>-0.187974</td>\n",
       "      <td>0.310323</td>\n",
       "      <td>0.218814</td>\n",
       "    </tr>\n",
       "    <tr>\n",
       "      <th>fan</th>\n",
       "      <td>0.123643</td>\n",
       "      <td>1.000000</td>\n",
       "      <td>-0.032607</td>\n",
       "      <td>0.027062</td>\n",
       "      <td>0.619605</td>\n",
       "      <td>0.319194</td>\n",
       "    </tr>\n",
       "    <tr>\n",
       "      <th>ac</th>\n",
       "      <td>-0.037421</td>\n",
       "      <td>-0.032607</td>\n",
       "      <td>1.000000</td>\n",
       "      <td>0.091892</td>\n",
       "      <td>0.502807</td>\n",
       "      <td>0.492242</td>\n",
       "    </tr>\n",
       "    <tr>\n",
       "      <th>refrigerator</th>\n",
       "      <td>-0.187974</td>\n",
       "      <td>0.027062</td>\n",
       "      <td>0.091892</td>\n",
       "      <td>1.000000</td>\n",
       "      <td>0.532531</td>\n",
       "      <td>0.490889</td>\n",
       "    </tr>\n",
       "    <tr>\n",
       "      <th>total consumption</th>\n",
       "      <td>0.310323</td>\n",
       "      <td>0.619605</td>\n",
       "      <td>0.502807</td>\n",
       "      <td>0.532531</td>\n",
       "      <td>1.000000</td>\n",
       "      <td>0.766393</td>\n",
       "    </tr>\n",
       "    <tr>\n",
       "      <th>festival consumption</th>\n",
       "      <td>0.218814</td>\n",
       "      <td>0.319194</td>\n",
       "      <td>0.492242</td>\n",
       "      <td>0.490889</td>\n",
       "      <td>0.766393</td>\n",
       "      <td>1.000000</td>\n",
       "    </tr>\n",
       "  </tbody>\n",
       "</table>\n",
       "</div>"
      ],
      "text/plain": [
       "                         light       fan        ac  refrigerator  \\\n",
       "light                 1.000000  0.123643 -0.037421     -0.187974   \n",
       "fan                   0.123643  1.000000 -0.032607      0.027062   \n",
       "ac                   -0.037421 -0.032607  1.000000      0.091892   \n",
       "refrigerator         -0.187974  0.027062  0.091892      1.000000   \n",
       "total consumption     0.310323  0.619605  0.502807      0.532531   \n",
       "festival consumption  0.218814  0.319194  0.492242      0.490889   \n",
       "\n",
       "                      total consumption  festival consumption  \n",
       "light                          0.310323              0.218814  \n",
       "fan                            0.619605              0.319194  \n",
       "ac                             0.502807              0.492242  \n",
       "refrigerator                   0.532531              0.490889  \n",
       "total consumption              1.000000              0.766393  \n",
       "festival consumption           0.766393              1.000000  "
      ]
     },
     "execution_count": 8,
     "metadata": {},
     "output_type": "execute_result"
    }
   ],
   "source": [
    "d1.corr()"
   ]
  },
  {
   "cell_type": "code",
   "execution_count": 9,
   "metadata": {},
   "outputs": [],
   "source": [
    "import matplotlib.pyplot as plt\n",
    "%matplotlib inline"
   ]
  },
  {
   "cell_type": "code",
   "execution_count": 10,
   "metadata": {},
   "outputs": [
    {
     "data": {
      "text/plain": [
       "<matplotlib.axes._subplots.AxesSubplot at 0x1f8acc6e470>"
      ]
     },
     "execution_count": 10,
     "metadata": {},
     "output_type": "execute_result"
    },
    {
     "data": {
      "image/png": "[encoded data removed]",
      "text/plain": [
       "<Figure size 432x288 with 1 Axes>"
      ]
     },
     "metadata": {
      "needs_background": "light"
     },
     "output_type": "display_data"
    }
   ],
   "source": [
    "d1['total consumption'].hist(bins=10)"
   ]
  },
  {
   "cell_type": "code",
   "execution_count": 11,
   "metadata": {},
   "outputs": [
    {
     "data": {
      "text/plain": [
       "0     269\n",
       "1     274\n",
       "2     293\n",
       "3     319\n",
       "4     295\n",
       "5     301\n",
       "6     304\n",
       "7     304\n",
       "8     318\n",
       "9     323\n",
       "10    308\n",
       "11    292\n",
       "12    303\n",
       "13    316\n",
       "14    298\n",
       "15    300\n",
       "16    298\n",
       "17    297\n",
       "18    281\n",
       "19    280\n",
       "20    302\n",
       "21    291\n",
       "22    267\n",
       "23    295\n",
       "24    299\n",
       "25    300\n",
       "26    278\n",
       "27    303\n",
       "28    309\n",
       "29    298\n",
       "30    316\n",
       "31    331\n",
       "32    329\n",
       "33    316\n",
       "34    306\n",
       "35    317\n",
       "36    304\n",
       "37    299\n",
       "38    331\n",
       "39    301\n",
       "40    324\n",
       "41    319\n",
       "42    311\n",
       "43    324\n",
       "44    318\n",
       "45    325\n",
       "46    312\n",
       "47    310\n",
       "48    325\n",
       "49    330\n",
       "Name: total consumption, dtype: int64"
      ]
     },
     "execution_count": 11,
     "metadata": {},
     "output_type": "execute_result"
    }
   ],
   "source": [
    "d2=d1['total consumption']\n",
    "d2"
   ]
  },
  {
   "cell_type": "code",
   "execution_count": 12,
   "metadata": {},
   "outputs": [
    {
     "data": {
      "text/plain": [
       "331"
      ]
     },
     "execution_count": 12,
     "metadata": {},
     "output_type": "execute_result"
    }
   ],
   "source": [
    "max=d2.max()\n",
    "max"
   ]
  },
  {
   "cell_type": "code",
   "execution_count": 14,
   "metadata": {},
   "outputs": [
    {
     "data": {
      "text/plain": [
       "<matplotlib.axes._subplots.AxesSubplot at 0x1f8ada64ef0>"
      ]
     },
     "execution_count": 14,
     "metadata": {},
     "output_type": "execute_result"
    },
    {
     "data": {
      "image/png": "[encoded data removed]",
      "text/plain": [
       "<Figure size 432x288 with 1 Axes>"
      ]
     },
     "metadata": {
      "needs_background": "light"
     },
     "output_type": "display_data"
    }
   ],
   "source": [
    "d1['festival consumption'].hist(bins=10)"
   ]
  },
  {
   "cell_type": "code",
   "execution_count": 15,
   "metadata": {},
   "outputs": [
    {
     "data": {
      "text/plain": [
       "<matplotlib.axes._subplots.AxesSubplot at 0x1f8ad8dcb00>"
      ]
     },
     "execution_count": 15,
     "metadata": {},
     "output_type": "execute_result"
    },
    {
     "data": {
      "image/png": "[encoded data removed]",
      "text/plain": [
       "<Figure size 432x288 with 1 Axes>"
      ]
     },
     "metadata": {
      "needs_background": "light"
     },
     "output_type": "display_data"
    }
   ],
   "source": [
    "d1.boxplot(column='total consumption',by='region')"
   ]
  },
  {
   "cell_type": "code",
   "execution_count": 50,
   "metadata": {},
   "outputs": [
    {
     "name": "stdout",
     "output_type": "stream",
     "text": [
      "310\n",
      "320\n"
     ]
    }
   ],
   "source": [
    "for  i in df[\"total consumption\"]:\n",
    "    if(i>300):\n",
    "        print(i)"
   ]
  },
  {
   "cell_type": "code",
   "execution_count": 31,
   "metadata": {},
   "outputs": [
    {
     "ename": "SyntaxError",
     "evalue": "invalid syntax (<ipython-input-31-afabcb807d2a>, line 1)",
     "output_type": "error",
     "traceback": [
      "\u001b[1;36m  File \u001b[1;32m\"<ipython-input-31-afabcb807d2a>\"\u001b[1;36m, line \u001b[1;32m1\u001b[0m\n\u001b[1;33m    for i in total consumption:\u001b[0m\n\u001b[1;37m                             ^\u001b[0m\n\u001b[1;31mSyntaxError\u001b[0m\u001b[1;31m:\u001b[0m invalid syntax\n"
     ]
    }
   ],
   "source": [
    "for i in total consumption:\n",
    "    if(d1[\"total consumption\"]>290):\n",
    "        print(region)"
   ]
  },
  {
   "cell_type": "code",
   "execution_count": 16,
   "metadata": {},
   "outputs": [
    {
     "data": {
      "text/plain": [
       "<matplotlib.axes._subplots.AxesSubplot at 0x1f8ad372c88>"
      ]
     },
     "execution_count": 16,
     "metadata": {},
     "output_type": "execute_result"
    },
    {
     "data": {
      "image/png": "[encoded data removed]",
      "text/plain": [
       "<Figure size 432x288 with 1 Axes>"
      ]
     },
     "metadata": {
      "needs_background": "light"
     },
     "output_type": "display_data"
    }
   ],
   "source": [
    "d1.boxplot(column='total consumption',by ='region')"
   ]
  },
  {
   "cell_type": "code",
   "execution_count": 17,
   "metadata": {},
   "outputs": [
    {
     "data": {
      "text/plain": [
       "<matplotlib.axes._subplots.AxesSubplot at 0x1f8adaad358>"
      ]
     },
     "execution_count": 17,
     "metadata": {},
     "output_type": "execute_result"
    },
    {
     "data": {
      "image/png": "[encoded data removed]",
      "text/plain": [
       "<Figure size 432x288 with 1 Axes>"
      ]
     },
     "metadata": {
      "needs_background": "light"
     },
     "output_type": "display_data"
    }
   ],
   "source": [
    "d1.boxplot(column='festival consumption',by ='region')"
   ]
  },
  {
   "cell_type": "code",
   "execution_count": 18,
   "metadata": {},
   "outputs": [
    {
     "data": {
      "text/html": [
       "<div>\n",
       "<style scoped>\n",
       "    .dataframe tbody tr th:only-of-type {\n",
       "        vertical-align: middle;\n",
       "    }\n",
       "\n",
       "    .dataframe tbody tr th {\n",
       "        vertical-align: top;\n",
       "    }\n",
       "\n",
       "    .dataframe thead th {\n",
       "        text-align: right;\n",
       "    }\n",
       "</style>\n",
       "<table border=\"1\" class=\"dataframe\">\n",
       "  <thead>\n",
       "    <tr style=\"text-align: right;\">\n",
       "      <th></th>\n",
       "      <th>users</th>\n",
       "      <th>light</th>\n",
       "      <th>fan</th>\n",
       "      <th>ac</th>\n",
       "      <th>refrigerator</th>\n",
       "      <th>total consumption</th>\n",
       "      <th>festival consumption</th>\n",
       "      <th>region</th>\n",
       "    </tr>\n",
       "  </thead>\n",
       "  <tbody>\n",
       "    <tr>\n",
       "      <th>2</th>\n",
       "      <td>vyshnavi</td>\n",
       "      <td>18</td>\n",
       "      <td>55</td>\n",
       "      <td>104</td>\n",
       "      <td>116</td>\n",
       "      <td>293</td>\n",
       "      <td>315</td>\n",
       "      <td>kukatpally</td>\n",
       "    </tr>\n",
       "    <tr>\n",
       "      <th>3</th>\n",
       "      <td>sowmya</td>\n",
       "      <td>23</td>\n",
       "      <td>70</td>\n",
       "      <td>115</td>\n",
       "      <td>111</td>\n",
       "      <td>319</td>\n",
       "      <td>300</td>\n",
       "      <td>kukatpally</td>\n",
       "    </tr>\n",
       "    <tr>\n",
       "      <th>5</th>\n",
       "      <td>renuka</td>\n",
       "      <td>13</td>\n",
       "      <td>75</td>\n",
       "      <td>98</td>\n",
       "      <td>115</td>\n",
       "      <td>301</td>\n",
       "      <td>310</td>\n",
       "      <td>kukatpally</td>\n",
       "    </tr>\n",
       "    <tr>\n",
       "      <th>6</th>\n",
       "      <td>rummy</td>\n",
       "      <td>22</td>\n",
       "      <td>63</td>\n",
       "      <td>110</td>\n",
       "      <td>109</td>\n",
       "      <td>304</td>\n",
       "      <td>314</td>\n",
       "      <td>kukatpally</td>\n",
       "    </tr>\n",
       "    <tr>\n",
       "      <th>9</th>\n",
       "      <td>kowshalya</td>\n",
       "      <td>17</td>\n",
       "      <td>72</td>\n",
       "      <td>114</td>\n",
       "      <td>120</td>\n",
       "      <td>323</td>\n",
       "      <td>345</td>\n",
       "      <td>kukatpally</td>\n",
       "    </tr>\n",
       "    <tr>\n",
       "      <th>12</th>\n",
       "      <td>swathi</td>\n",
       "      <td>18</td>\n",
       "      <td>51</td>\n",
       "      <td>120</td>\n",
       "      <td>114</td>\n",
       "      <td>303</td>\n",
       "      <td>313</td>\n",
       "      <td>kukatpally</td>\n",
       "    </tr>\n",
       "    <tr>\n",
       "      <th>15</th>\n",
       "      <td>jagadesh</td>\n",
       "      <td>28</td>\n",
       "      <td>62</td>\n",
       "      <td>120</td>\n",
       "      <td>90</td>\n",
       "      <td>300</td>\n",
       "      <td>310</td>\n",
       "      <td>kukatpally</td>\n",
       "    </tr>\n",
       "    <tr>\n",
       "      <th>19</th>\n",
       "      <td>lavanya</td>\n",
       "      <td>12</td>\n",
       "      <td>42</td>\n",
       "      <td>116</td>\n",
       "      <td>110</td>\n",
       "      <td>280</td>\n",
       "      <td>315</td>\n",
       "      <td>kukatpally</td>\n",
       "    </tr>\n",
       "    <tr>\n",
       "      <th>26</th>\n",
       "      <td>nikhil</td>\n",
       "      <td>10</td>\n",
       "      <td>51</td>\n",
       "      <td>114</td>\n",
       "      <td>103</td>\n",
       "      <td>278</td>\n",
       "      <td>298</td>\n",
       "      <td>kukatpally</td>\n",
       "    </tr>\n",
       "    <tr>\n",
       "      <th>30</th>\n",
       "      <td>shabana</td>\n",
       "      <td>10</td>\n",
       "      <td>74</td>\n",
       "      <td>116</td>\n",
       "      <td>116</td>\n",
       "      <td>316</td>\n",
       "      <td>311</td>\n",
       "      <td>kukatpally</td>\n",
       "    </tr>\n",
       "    <tr>\n",
       "      <th>36</th>\n",
       "      <td>chandini</td>\n",
       "      <td>25</td>\n",
       "      <td>68</td>\n",
       "      <td>113</td>\n",
       "      <td>98</td>\n",
       "      <td>304</td>\n",
       "      <td>324</td>\n",
       "      <td>kukatpally</td>\n",
       "    </tr>\n",
       "    <tr>\n",
       "      <th>43</th>\n",
       "      <td>jyothi</td>\n",
       "      <td>19</td>\n",
       "      <td>54</td>\n",
       "      <td>130</td>\n",
       "      <td>121</td>\n",
       "      <td>324</td>\n",
       "      <td>330</td>\n",
       "      <td>kukatpally</td>\n",
       "    </tr>\n",
       "    <tr>\n",
       "      <th>47</th>\n",
       "      <td>anjuma</td>\n",
       "      <td>16</td>\n",
       "      <td>74</td>\n",
       "      <td>120</td>\n",
       "      <td>100</td>\n",
       "      <td>310</td>\n",
       "      <td>330</td>\n",
       "      <td>kukatpally</td>\n",
       "    </tr>\n",
       "  </tbody>\n",
       "</table>\n",
       "</div>"
      ],
      "text/plain": [
       "        users  light  fan   ac  refrigerator  total consumption  \\\n",
       "2    vyshnavi     18   55  104           116                293   \n",
       "3      sowmya     23   70  115           111                319   \n",
       "5      renuka     13   75   98           115                301   \n",
       "6       rummy     22   63  110           109                304   \n",
       "9   kowshalya     17   72  114           120                323   \n",
       "12     swathi     18   51  120           114                303   \n",
       "15   jagadesh     28   62  120            90                300   \n",
       "19    lavanya     12   42  116           110                280   \n",
       "26     nikhil     10   51  114           103                278   \n",
       "30    shabana     10   74  116           116                316   \n",
       "36   chandini     25   68  113            98                304   \n",
       "43     jyothi     19   54  130           121                324   \n",
       "47     anjuma     16   74  120           100                310   \n",
       "\n",
       "    festival consumption      region  \n",
       "2                    315  kukatpally  \n",
       "3                    300  kukatpally  \n",
       "5                    310  kukatpally  \n",
       "6                    314  kukatpally  \n",
       "9                    345  kukatpally  \n",
       "12                   313  kukatpally  \n",
       "15                   310  kukatpally  \n",
       "19                   315  kukatpally  \n",
       "26                   298  kukatpally  \n",
       "30                   311  kukatpally  \n",
       "36                   324  kukatpally  \n",
       "43                   330  kukatpally  \n",
       "47                   330  kukatpally  "
      ]
     },
     "execution_count": 18,
     "metadata": {},
     "output_type": "execute_result"
    }
   ],
   "source": [
    "d1_kukatpally=d1[d1['region'].str.contains('kukatpally')]\n",
    "d1_kukatpally"
   ]
  },
  {
   "cell_type": "code",
   "execution_count": 19,
   "metadata": {},
   "outputs": [
    {
     "data": {
      "text/html": [
       "<div>\n",
       "<style scoped>\n",
       "    .dataframe tbody tr th:only-of-type {\n",
       "        vertical-align: middle;\n",
       "    }\n",
       "\n",
       "    .dataframe tbody tr th {\n",
       "        vertical-align: top;\n",
       "    }\n",
       "\n",
       "    .dataframe thead th {\n",
       "        text-align: right;\n",
       "    }\n",
       "</style>\n",
       "<table border=\"1\" class=\"dataframe\">\n",
       "  <thead>\n",
       "    <tr style=\"text-align: right;\">\n",
       "      <th></th>\n",
       "      <th>light</th>\n",
       "      <th>fan</th>\n",
       "      <th>ac</th>\n",
       "      <th>refrigerator</th>\n",
       "      <th>total consumption</th>\n",
       "      <th>festival consumption</th>\n",
       "    </tr>\n",
       "  </thead>\n",
       "  <tbody>\n",
       "    <tr>\n",
       "      <th>count</th>\n",
       "      <td>13.000000</td>\n",
       "      <td>13.000000</td>\n",
       "      <td>13.000000</td>\n",
       "      <td>13.000000</td>\n",
       "      <td>13.000000</td>\n",
       "      <td>13.000000</td>\n",
       "    </tr>\n",
       "    <tr>\n",
       "      <th>mean</th>\n",
       "      <td>17.769231</td>\n",
       "      <td>62.384615</td>\n",
       "      <td>114.615385</td>\n",
       "      <td>109.461538</td>\n",
       "      <td>304.230769</td>\n",
       "      <td>316.538462</td>\n",
       "    </tr>\n",
       "    <tr>\n",
       "      <th>std</th>\n",
       "      <td>5.659120</td>\n",
       "      <td>10.843880</td>\n",
       "      <td>7.858525</td>\n",
       "      <td>9.243154</td>\n",
       "      <td>14.618218</td>\n",
       "      <td>12.862189</td>\n",
       "    </tr>\n",
       "    <tr>\n",
       "      <th>min</th>\n",
       "      <td>10.000000</td>\n",
       "      <td>42.000000</td>\n",
       "      <td>98.000000</td>\n",
       "      <td>90.000000</td>\n",
       "      <td>278.000000</td>\n",
       "      <td>298.000000</td>\n",
       "    </tr>\n",
       "    <tr>\n",
       "      <th>25%</th>\n",
       "      <td>13.000000</td>\n",
       "      <td>54.000000</td>\n",
       "      <td>113.000000</td>\n",
       "      <td>103.000000</td>\n",
       "      <td>300.000000</td>\n",
       "      <td>310.000000</td>\n",
       "    </tr>\n",
       "    <tr>\n",
       "      <th>50%</th>\n",
       "      <td>18.000000</td>\n",
       "      <td>63.000000</td>\n",
       "      <td>115.000000</td>\n",
       "      <td>111.000000</td>\n",
       "      <td>304.000000</td>\n",
       "      <td>314.000000</td>\n",
       "    </tr>\n",
       "    <tr>\n",
       "      <th>75%</th>\n",
       "      <td>22.000000</td>\n",
       "      <td>72.000000</td>\n",
       "      <td>120.000000</td>\n",
       "      <td>116.000000</td>\n",
       "      <td>316.000000</td>\n",
       "      <td>324.000000</td>\n",
       "    </tr>\n",
       "    <tr>\n",
       "      <th>max</th>\n",
       "      <td>28.000000</td>\n",
       "      <td>75.000000</td>\n",
       "      <td>130.000000</td>\n",
       "      <td>121.000000</td>\n",
       "      <td>324.000000</td>\n",
       "      <td>345.000000</td>\n",
       "    </tr>\n",
       "  </tbody>\n",
       "</table>\n",
       "</div>"
      ],
      "text/plain": [
       "           light        fan          ac  refrigerator  total consumption  \\\n",
       "count  13.000000  13.000000   13.000000     13.000000          13.000000   \n",
       "mean   17.769231  62.384615  114.615385    109.461538         304.230769   \n",
       "std     5.659120  10.843880    7.858525      9.243154          14.618218   \n",
       "min    10.000000  42.000000   98.000000     90.000000         278.000000   \n",
       "25%    13.000000  54.000000  113.000000    103.000000         300.000000   \n",
       "50%    18.000000  63.000000  115.000000    111.000000         304.000000   \n",
       "75%    22.000000  72.000000  120.000000    116.000000         316.000000   \n",
       "max    28.000000  75.000000  130.000000    121.000000         324.000000   \n",
       "\n",
       "       festival consumption  \n",
       "count             13.000000  \n",
       "mean             316.538462  \n",
       "std               12.862189  \n",
       "min              298.000000  \n",
       "25%              310.000000  \n",
       "50%              314.000000  \n",
       "75%              324.000000  \n",
       "max              345.000000  "
      ]
     },
     "execution_count": 19,
     "metadata": {},
     "output_type": "execute_result"
    }
   ],
   "source": [
    "d1_kukatpally.describe()"
   ]
  },
  {
   "cell_type": "code",
   "execution_count": 20,
   "metadata": {},
   "outputs": [
    {
     "data": {
      "text/html": [
       "<div>\n",
       "<style scoped>\n",
       "    .dataframe tbody tr th:only-of-type {\n",
       "        vertical-align: middle;\n",
       "    }\n",
       "\n",
       "    .dataframe tbody tr th {\n",
       "        vertical-align: top;\n",
       "    }\n",
       "\n",
       "    .dataframe thead th {\n",
       "        text-align: right;\n",
       "    }\n",
       "</style>\n",
       "<table border=\"1\" class=\"dataframe\">\n",
       "  <thead>\n",
       "    <tr style=\"text-align: right;\">\n",
       "      <th></th>\n",
       "      <th>users</th>\n",
       "      <th>light</th>\n",
       "      <th>fan</th>\n",
       "      <th>ac</th>\n",
       "      <th>refrigerator</th>\n",
       "      <th>total consumption</th>\n",
       "      <th>festival consumption</th>\n",
       "      <th>region</th>\n",
       "    </tr>\n",
       "  </thead>\n",
       "  <tbody>\n",
       "    <tr>\n",
       "      <th>0</th>\n",
       "      <td>jahnavi</td>\n",
       "      <td>10</td>\n",
       "      <td>50</td>\n",
       "      <td>100</td>\n",
       "      <td>109</td>\n",
       "      <td>269</td>\n",
       "      <td>285</td>\n",
       "      <td>bhel</td>\n",
       "    </tr>\n",
       "    <tr>\n",
       "      <th>11</th>\n",
       "      <td>sravya</td>\n",
       "      <td>12</td>\n",
       "      <td>66</td>\n",
       "      <td>109</td>\n",
       "      <td>105</td>\n",
       "      <td>292</td>\n",
       "      <td>310</td>\n",
       "      <td>bhel</td>\n",
       "    </tr>\n",
       "    <tr>\n",
       "      <th>14</th>\n",
       "      <td>sarath</td>\n",
       "      <td>21</td>\n",
       "      <td>54</td>\n",
       "      <td>108</td>\n",
       "      <td>115</td>\n",
       "      <td>298</td>\n",
       "      <td>315</td>\n",
       "      <td>bhel</td>\n",
       "    </tr>\n",
       "    <tr>\n",
       "      <th>18</th>\n",
       "      <td>sirisha</td>\n",
       "      <td>17</td>\n",
       "      <td>55</td>\n",
       "      <td>117</td>\n",
       "      <td>92</td>\n",
       "      <td>281</td>\n",
       "      <td>300</td>\n",
       "      <td>bhel</td>\n",
       "    </tr>\n",
       "    <tr>\n",
       "      <th>24</th>\n",
       "      <td>praneeth</td>\n",
       "      <td>18</td>\n",
       "      <td>70</td>\n",
       "      <td>105</td>\n",
       "      <td>106</td>\n",
       "      <td>299</td>\n",
       "      <td>312</td>\n",
       "      <td>bhel</td>\n",
       "    </tr>\n",
       "    <tr>\n",
       "      <th>29</th>\n",
       "      <td>punarvika</td>\n",
       "      <td>5</td>\n",
       "      <td>64</td>\n",
       "      <td>115</td>\n",
       "      <td>114</td>\n",
       "      <td>298</td>\n",
       "      <td>300</td>\n",
       "      <td>bhel</td>\n",
       "    </tr>\n",
       "    <tr>\n",
       "      <th>33</th>\n",
       "      <td>shaheena</td>\n",
       "      <td>28</td>\n",
       "      <td>63</td>\n",
       "      <td>105</td>\n",
       "      <td>120</td>\n",
       "      <td>316</td>\n",
       "      <td>312</td>\n",
       "      <td>bhel</td>\n",
       "    </tr>\n",
       "    <tr>\n",
       "      <th>38</th>\n",
       "      <td>pavani</td>\n",
       "      <td>15</td>\n",
       "      <td>80</td>\n",
       "      <td>121</td>\n",
       "      <td>115</td>\n",
       "      <td>331</td>\n",
       "      <td>311</td>\n",
       "      <td>bhel</td>\n",
       "    </tr>\n",
       "    <tr>\n",
       "      <th>45</th>\n",
       "      <td>gowsia</td>\n",
       "      <td>21</td>\n",
       "      <td>75</td>\n",
       "      <td>114</td>\n",
       "      <td>115</td>\n",
       "      <td>325</td>\n",
       "      <td>325</td>\n",
       "      <td>bhel</td>\n",
       "    </tr>\n",
       "    <tr>\n",
       "      <th>49</th>\n",
       "      <td>hemalatha</td>\n",
       "      <td>20</td>\n",
       "      <td>75</td>\n",
       "      <td>115</td>\n",
       "      <td>120</td>\n",
       "      <td>330</td>\n",
       "      <td>350</td>\n",
       "      <td>bhel</td>\n",
       "    </tr>\n",
       "  </tbody>\n",
       "</table>\n",
       "</div>"
      ],
      "text/plain": [
       "        users  light  fan   ac  refrigerator  total consumption  \\\n",
       "0     jahnavi     10   50  100           109                269   \n",
       "11     sravya     12   66  109           105                292   \n",
       "14    sarath      21   54  108           115                298   \n",
       "18    sirisha     17   55  117            92                281   \n",
       "24   praneeth     18   70  105           106                299   \n",
       "29  punarvika      5   64  115           114                298   \n",
       "33   shaheena     28   63  105           120                316   \n",
       "38     pavani     15   80  121           115                331   \n",
       "45     gowsia     21   75  114           115                325   \n",
       "49  hemalatha     20   75  115           120                330   \n",
       "\n",
       "    festival consumption region  \n",
       "0                    285   bhel  \n",
       "11                   310   bhel  \n",
       "14                   315   bhel  \n",
       "18                   300   bhel  \n",
       "24                   312   bhel  \n",
       "29                   300   bhel  \n",
       "33                   312   bhel  \n",
       "38                   311   bhel  \n",
       "45                   325   bhel  \n",
       "49                   350   bhel  "
      ]
     },
     "execution_count": 20,
     "metadata": {},
     "output_type": "execute_result"
    }
   ],
   "source": [
    "d1_bhel=d1[d1['region'].str.contains('bhel')]\n",
    "d1_bhel"
   ]
  },
  {
   "cell_type": "code",
   "execution_count": 21,
   "metadata": {},
   "outputs": [
    {
     "data": {
      "text/html": [
       "<div>\n",
       "<style scoped>\n",
       "    .dataframe tbody tr th:only-of-type {\n",
       "        vertical-align: middle;\n",
       "    }\n",
       "\n",
       "    .dataframe tbody tr th {\n",
       "        vertical-align: top;\n",
       "    }\n",
       "\n",
       "    .dataframe thead th {\n",
       "        text-align: right;\n",
       "    }\n",
       "</style>\n",
       "<table border=\"1\" class=\"dataframe\">\n",
       "  <thead>\n",
       "    <tr style=\"text-align: right;\">\n",
       "      <th></th>\n",
       "      <th>light</th>\n",
       "      <th>fan</th>\n",
       "      <th>ac</th>\n",
       "      <th>refrigerator</th>\n",
       "      <th>total consumption</th>\n",
       "      <th>festival consumption</th>\n",
       "    </tr>\n",
       "  </thead>\n",
       "  <tbody>\n",
       "    <tr>\n",
       "      <th>count</th>\n",
       "      <td>10.000000</td>\n",
       "      <td>10.000000</td>\n",
       "      <td>10.00000</td>\n",
       "      <td>10.00000</td>\n",
       "      <td>10.000000</td>\n",
       "      <td>10.000000</td>\n",
       "    </tr>\n",
       "    <tr>\n",
       "      <th>mean</th>\n",
       "      <td>16.700000</td>\n",
       "      <td>65.200000</td>\n",
       "      <td>110.90000</td>\n",
       "      <td>111.10000</td>\n",
       "      <td>303.900000</td>\n",
       "      <td>312.000000</td>\n",
       "    </tr>\n",
       "    <tr>\n",
       "      <th>std</th>\n",
       "      <td>6.532823</td>\n",
       "      <td>10.008885</td>\n",
       "      <td>6.52261</td>\n",
       "      <td>8.46496</td>\n",
       "      <td>21.042021</td>\n",
       "      <td>17.139947</td>\n",
       "    </tr>\n",
       "    <tr>\n",
       "      <th>min</th>\n",
       "      <td>5.000000</td>\n",
       "      <td>50.000000</td>\n",
       "      <td>100.00000</td>\n",
       "      <td>92.00000</td>\n",
       "      <td>269.000000</td>\n",
       "      <td>285.000000</td>\n",
       "    </tr>\n",
       "    <tr>\n",
       "      <th>25%</th>\n",
       "      <td>12.750000</td>\n",
       "      <td>57.000000</td>\n",
       "      <td>105.75000</td>\n",
       "      <td>106.75000</td>\n",
       "      <td>293.500000</td>\n",
       "      <td>302.500000</td>\n",
       "    </tr>\n",
       "    <tr>\n",
       "      <th>50%</th>\n",
       "      <td>17.500000</td>\n",
       "      <td>65.000000</td>\n",
       "      <td>111.50000</td>\n",
       "      <td>114.50000</td>\n",
       "      <td>298.500000</td>\n",
       "      <td>311.500000</td>\n",
       "    </tr>\n",
       "    <tr>\n",
       "      <th>75%</th>\n",
       "      <td>20.750000</td>\n",
       "      <td>73.750000</td>\n",
       "      <td>115.00000</td>\n",
       "      <td>115.00000</td>\n",
       "      <td>322.750000</td>\n",
       "      <td>314.250000</td>\n",
       "    </tr>\n",
       "    <tr>\n",
       "      <th>max</th>\n",
       "      <td>28.000000</td>\n",
       "      <td>80.000000</td>\n",
       "      <td>121.00000</td>\n",
       "      <td>120.00000</td>\n",
       "      <td>331.000000</td>\n",
       "      <td>350.000000</td>\n",
       "    </tr>\n",
       "  </tbody>\n",
       "</table>\n",
       "</div>"
      ],
      "text/plain": [
       "           light        fan         ac  refrigerator  total consumption  \\\n",
       "count  10.000000  10.000000   10.00000      10.00000          10.000000   \n",
       "mean   16.700000  65.200000  110.90000     111.10000         303.900000   \n",
       "std     6.532823  10.008885    6.52261       8.46496          21.042021   \n",
       "min     5.000000  50.000000  100.00000      92.00000         269.000000   \n",
       "25%    12.750000  57.000000  105.75000     106.75000         293.500000   \n",
       "50%    17.500000  65.000000  111.50000     114.50000         298.500000   \n",
       "75%    20.750000  73.750000  115.00000     115.00000         322.750000   \n",
       "max    28.000000  80.000000  121.00000     120.00000         331.000000   \n",
       "\n",
       "       festival consumption  \n",
       "count             10.000000  \n",
       "mean             312.000000  \n",
       "std               17.139947  \n",
       "min              285.000000  \n",
       "25%              302.500000  \n",
       "50%              311.500000  \n",
       "75%              314.250000  \n",
       "max              350.000000  "
      ]
     },
     "execution_count": 21,
     "metadata": {},
     "output_type": "execute_result"
    }
   ],
   "source": [
    "d1_bhel.describe()"
   ]
  },
  {
   "cell_type": "code",
   "execution_count": 22,
   "metadata": {},
   "outputs": [
    {
     "data": {
      "text/html": [
       "<div>\n",
       "<style scoped>\n",
       "    .dataframe tbody tr th:only-of-type {\n",
       "        vertical-align: middle;\n",
       "    }\n",
       "\n",
       "    .dataframe tbody tr th {\n",
       "        vertical-align: top;\n",
       "    }\n",
       "\n",
       "    .dataframe thead th {\n",
       "        text-align: right;\n",
       "    }\n",
       "</style>\n",
       "<table border=\"1\" class=\"dataframe\">\n",
       "  <thead>\n",
       "    <tr style=\"text-align: right;\">\n",
       "      <th></th>\n",
       "      <th>users</th>\n",
       "      <th>light</th>\n",
       "      <th>fan</th>\n",
       "      <th>ac</th>\n",
       "      <th>refrigerator</th>\n",
       "      <th>total consumption</th>\n",
       "      <th>festival consumption</th>\n",
       "      <th>region</th>\n",
       "    </tr>\n",
       "  </thead>\n",
       "  <tbody>\n",
       "    <tr>\n",
       "      <th>8</th>\n",
       "      <td>navya</td>\n",
       "      <td>27</td>\n",
       "      <td>61</td>\n",
       "      <td>112</td>\n",
       "      <td>118</td>\n",
       "      <td>318</td>\n",
       "      <td>340</td>\n",
       "      <td>abids</td>\n",
       "    </tr>\n",
       "    <tr>\n",
       "      <th>10</th>\n",
       "      <td>sravani</td>\n",
       "      <td>20</td>\n",
       "      <td>77</td>\n",
       "      <td>111</td>\n",
       "      <td>100</td>\n",
       "      <td>308</td>\n",
       "      <td>308</td>\n",
       "      <td>abids</td>\n",
       "    </tr>\n",
       "    <tr>\n",
       "      <th>16</th>\n",
       "      <td>yamini</td>\n",
       "      <td>20</td>\n",
       "      <td>71</td>\n",
       "      <td>111</td>\n",
       "      <td>96</td>\n",
       "      <td>298</td>\n",
       "      <td>298</td>\n",
       "      <td>abids</td>\n",
       "    </tr>\n",
       "    <tr>\n",
       "      <th>20</th>\n",
       "      <td>tulasi</td>\n",
       "      <td>15</td>\n",
       "      <td>57</td>\n",
       "      <td>115</td>\n",
       "      <td>115</td>\n",
       "      <td>302</td>\n",
       "      <td>312</td>\n",
       "      <td>abids</td>\n",
       "    </tr>\n",
       "    <tr>\n",
       "      <th>28</th>\n",
       "      <td>gowtham</td>\n",
       "      <td>3</td>\n",
       "      <td>69</td>\n",
       "      <td>122</td>\n",
       "      <td>115</td>\n",
       "      <td>309</td>\n",
       "      <td>319</td>\n",
       "      <td>abids</td>\n",
       "    </tr>\n",
       "    <tr>\n",
       "      <th>34</th>\n",
       "      <td>anusha</td>\n",
       "      <td>14</td>\n",
       "      <td>62</td>\n",
       "      <td>106</td>\n",
       "      <td>124</td>\n",
       "      <td>306</td>\n",
       "      <td>306</td>\n",
       "      <td>abids</td>\n",
       "    </tr>\n",
       "    <tr>\n",
       "      <th>42</th>\n",
       "      <td>divya</td>\n",
       "      <td>12</td>\n",
       "      <td>68</td>\n",
       "      <td>112</td>\n",
       "      <td>119</td>\n",
       "      <td>311</td>\n",
       "      <td>322</td>\n",
       "      <td>abids</td>\n",
       "    </tr>\n",
       "    <tr>\n",
       "      <th>48</th>\n",
       "      <td>kavya</td>\n",
       "      <td>15</td>\n",
       "      <td>80</td>\n",
       "      <td>115</td>\n",
       "      <td>115</td>\n",
       "      <td>325</td>\n",
       "      <td>325</td>\n",
       "      <td>abids</td>\n",
       "    </tr>\n",
       "  </tbody>\n",
       "</table>\n",
       "</div>"
      ],
      "text/plain": [
       "      users  light  fan   ac  refrigerator  total consumption  \\\n",
       "8     navya     27   61  112           118                318   \n",
       "10  sravani     20   77  111           100                308   \n",
       "16   yamini     20   71  111            96                298   \n",
       "20   tulasi     15   57  115           115                302   \n",
       "28  gowtham      3   69  122           115                309   \n",
       "34   anusha     14   62  106           124                306   \n",
       "42    divya     12   68  112           119                311   \n",
       "48    kavya     15   80  115           115                325   \n",
       "\n",
       "    festival consumption region  \n",
       "8                    340  abids  \n",
       "10                   308  abids  \n",
       "16                   298  abids  \n",
       "20                   312  abids  \n",
       "28                   319  abids  \n",
       "34                   306  abids  \n",
       "42                   322  abids  \n",
       "48                   325  abids  "
      ]
     },
     "execution_count": 22,
     "metadata": {},
     "output_type": "execute_result"
    }
   ],
   "source": [
    "d1_abids=d1[d1['region'].str.contains('abids')]\n",
    "d1_abids"
   ]
  },
  {
   "cell_type": "code",
   "execution_count": 23,
   "metadata": {},
   "outputs": [
    {
     "data": {
      "text/html": [
       "<div>\n",
       "<style scoped>\n",
       "    .dataframe tbody tr th:only-of-type {\n",
       "        vertical-align: middle;\n",
       "    }\n",
       "\n",
       "    .dataframe tbody tr th {\n",
       "        vertical-align: top;\n",
       "    }\n",
       "\n",
       "    .dataframe thead th {\n",
       "        text-align: right;\n",
       "    }\n",
       "</style>\n",
       "<table border=\"1\" class=\"dataframe\">\n",
       "  <thead>\n",
       "    <tr style=\"text-align: right;\">\n",
       "      <th></th>\n",
       "      <th>light</th>\n",
       "      <th>fan</th>\n",
       "      <th>ac</th>\n",
       "      <th>refrigerator</th>\n",
       "      <th>total consumption</th>\n",
       "      <th>festival consumption</th>\n",
       "    </tr>\n",
       "  </thead>\n",
       "  <tbody>\n",
       "    <tr>\n",
       "      <th>count</th>\n",
       "      <td>8.0000</td>\n",
       "      <td>8.000000</td>\n",
       "      <td>8.000000</td>\n",
       "      <td>8.000000</td>\n",
       "      <td>8.000000</td>\n",
       "      <td>8.000000</td>\n",
       "    </tr>\n",
       "    <tr>\n",
       "      <th>mean</th>\n",
       "      <td>15.7500</td>\n",
       "      <td>68.125000</td>\n",
       "      <td>113.000000</td>\n",
       "      <td>112.750000</td>\n",
       "      <td>309.625000</td>\n",
       "      <td>316.250000</td>\n",
       "    </tr>\n",
       "    <tr>\n",
       "      <th>std</th>\n",
       "      <td>7.0051</td>\n",
       "      <td>7.936129</td>\n",
       "      <td>4.598136</td>\n",
       "      <td>9.647353</td>\n",
       "      <td>8.601287</td>\n",
       "      <td>13.123044</td>\n",
       "    </tr>\n",
       "    <tr>\n",
       "      <th>min</th>\n",
       "      <td>3.0000</td>\n",
       "      <td>57.000000</td>\n",
       "      <td>106.000000</td>\n",
       "      <td>96.000000</td>\n",
       "      <td>298.000000</td>\n",
       "      <td>298.000000</td>\n",
       "    </tr>\n",
       "    <tr>\n",
       "      <th>25%</th>\n",
       "      <td>13.5000</td>\n",
       "      <td>61.750000</td>\n",
       "      <td>111.000000</td>\n",
       "      <td>111.250000</td>\n",
       "      <td>305.000000</td>\n",
       "      <td>307.500000</td>\n",
       "    </tr>\n",
       "    <tr>\n",
       "      <th>50%</th>\n",
       "      <td>15.0000</td>\n",
       "      <td>68.500000</td>\n",
       "      <td>112.000000</td>\n",
       "      <td>115.000000</td>\n",
       "      <td>308.500000</td>\n",
       "      <td>315.500000</td>\n",
       "    </tr>\n",
       "    <tr>\n",
       "      <th>75%</th>\n",
       "      <td>20.0000</td>\n",
       "      <td>72.500000</td>\n",
       "      <td>115.000000</td>\n",
       "      <td>118.250000</td>\n",
       "      <td>312.750000</td>\n",
       "      <td>322.750000</td>\n",
       "    </tr>\n",
       "    <tr>\n",
       "      <th>max</th>\n",
       "      <td>27.0000</td>\n",
       "      <td>80.000000</td>\n",
       "      <td>122.000000</td>\n",
       "      <td>124.000000</td>\n",
       "      <td>325.000000</td>\n",
       "      <td>340.000000</td>\n",
       "    </tr>\n",
       "  </tbody>\n",
       "</table>\n",
       "</div>"
      ],
      "text/plain": [
       "         light        fan          ac  refrigerator  total consumption  \\\n",
       "count   8.0000   8.000000    8.000000      8.000000           8.000000   \n",
       "mean   15.7500  68.125000  113.000000    112.750000         309.625000   \n",
       "std     7.0051   7.936129    4.598136      9.647353           8.601287   \n",
       "min     3.0000  57.000000  106.000000     96.000000         298.000000   \n",
       "25%    13.5000  61.750000  111.000000    111.250000         305.000000   \n",
       "50%    15.0000  68.500000  112.000000    115.000000         308.500000   \n",
       "75%    20.0000  72.500000  115.000000    118.250000         312.750000   \n",
       "max    27.0000  80.000000  122.000000    124.000000         325.000000   \n",
       "\n",
       "       festival consumption  \n",
       "count              8.000000  \n",
       "mean             316.250000  \n",
       "std               13.123044  \n",
       "min              298.000000  \n",
       "25%              307.500000  \n",
       "50%              315.500000  \n",
       "75%              322.750000  \n",
       "max              340.000000  "
      ]
     },
     "execution_count": 23,
     "metadata": {},
     "output_type": "execute_result"
    }
   ],
   "source": [
    "d1_abids.describe()"
   ]
  },
  {
   "cell_type": "code",
   "execution_count": 24,
   "metadata": {},
   "outputs": [
    {
     "data": {
      "text/plain": [
       "<matplotlib.axes._subplots.AxesSubplot at 0x1f8adb93748>"
      ]
     },
     "execution_count": 24,
     "metadata": {},
     "output_type": "execute_result"
    },
    {
     "data": {
      "image/png": "[encoded data removed]",
      "text/plain": [
       "<Figure size 432x288 with 1 Axes>"
      ]
     },
     "metadata": {
      "needs_background": "light"
     },
     "output_type": "display_data"
    }
   ],
   "source": [
    "d1.boxplot(column='ac',by='region')"
   ]
  },
  {
   "cell_type": "code",
   "execution_count": 25,
   "metadata": {},
   "outputs": [
    {
     "data": {
      "text/plain": [
       "<matplotlib.axes._subplots.AxesSubplot at 0x1f8adba9a58>"
      ]
     },
     "execution_count": 25,
     "metadata": {},
     "output_type": "execute_result"
    },
    {
     "data": {
      "image/png": "[encoded data removed]",
      "text/plain": [
       "<Figure size 432x288 with 1 Axes>"
      ]
     },
     "metadata": {
      "needs_background": "light"
     },
     "output_type": "display_data"
    }
   ],
   "source": [
    "d1.boxplot(column='refrigerator',by='region')"
   ]
  },
  {
   "cell_type": "code",
   "execution_count": 26,
   "metadata": {},
   "outputs": [
    {
     "data": {
      "text/plain": [
       "<matplotlib.axes._subplots.AxesSubplot at 0x1f8aed1fe80>"
      ]
     },
     "execution_count": 26,
     "metadata": {},
     "output_type": "execute_result"
    },
    {
     "data": {
      "image/png": "[encoded data removed]",
      "text/plain": [
       "<Figure size 432x288 with 1 Axes>"
      ]
     },
     "metadata": {
      "needs_background": "light"
     },
     "output_type": "display_data"
    }
   ],
   "source": [
    "d1.boxplot(column='light',by='region')"
   ]
  },
  {
   "cell_type": "code",
   "execution_count": 27,
   "metadata": {},
   "outputs": [
    {
     "data": {
      "text/plain": [
       "<matplotlib.axes._subplots.AxesSubplot at 0x1f8aeda42b0>"
      ]
     },
     "execution_count": 27,
     "metadata": {},
     "output_type": "execute_result"
    },
    {
     "data": {
      "image/png": "[encoded data removed]",
      "text/plain": [
       "<Figure size 432x288 with 1 Axes>"
      ]
     },
     "metadata": {
      "needs_background": "light"
     },
     "output_type": "display_data"
    }
   ],
   "source": [
    "d1.boxplot(column='fan',by='region')"
   ]
  },
  {
   "cell_type": "code",
   "execution_count": 28,
   "metadata": {},
   "outputs": [],
   "source": [
    "x=d1[[\"total consumption\"]].values\n",
    "y=d1[[\"festival consumption\"]].values"
   ]
  },
  {
   "cell_type": "code",
   "execution_count": 29,
   "metadata": {},
   "outputs": [
    {
     "data": {
      "text/plain": [
       "array([[269],\n",
       "       [274],\n",
       "       [293],\n",
       "       [319],\n",
       "       [295],\n",
       "       [301],\n",
       "       [304],\n",
       "       [304],\n",
       "       [318],\n",
       "       [323],\n",
       "       [308],\n",
       "       [292],\n",
       "       [303],\n",
       "       [316],\n",
       "       [298],\n",
       "       [300],\n",
       "       [298],\n",
       "       [297],\n",
       "       [281],\n",
       "       [280],\n",
       "       [302],\n",
       "       [291],\n",
       "       [267],\n",
       "       [295],\n",
       "       [299],\n",
       "       [300],\n",
       "       [278],\n",
       "       [303],\n",
       "       [309],\n",
       "       [298],\n",
       "       [316],\n",
       "       [331],\n",
       "       [329],\n",
       "       [316],\n",
       "       [306],\n",
       "       [317],\n",
       "       [304],\n",
       "       [299],\n",
       "       [331],\n",
       "       [301],\n",
       "       [324],\n",
       "       [319],\n",
       "       [311],\n",
       "       [324],\n",
       "       [318],\n",
       "       [325],\n",
       "       [312],\n",
       "       [310],\n",
       "       [325],\n",
       "       [330]], dtype=int64)"
      ]
     },
     "execution_count": 29,
     "metadata": {},
     "output_type": "execute_result"
    }
   ],
   "source": [
    "x"
   ]
  },
  {
   "cell_type": "code",
   "execution_count": 30,
   "metadata": {},
   "outputs": [
    {
     "data": {
      "text/plain": [
       "array([[285],\n",
       "       [299],\n",
       "       [315],\n",
       "       [300],\n",
       "       [295],\n",
       "       [310],\n",
       "       [314],\n",
       "       [320],\n",
       "       [340],\n",
       "       [345],\n",
       "       [308],\n",
       "       [310],\n",
       "       [313],\n",
       "       [320],\n",
       "       [315],\n",
       "       [310],\n",
       "       [298],\n",
       "       [290],\n",
       "       [300],\n",
       "       [315],\n",
       "       [312],\n",
       "       [291],\n",
       "       [265],\n",
       "       [310],\n",
       "       [312],\n",
       "       [320],\n",
       "       [298],\n",
       "       [313],\n",
       "       [319],\n",
       "       [300],\n",
       "       [311],\n",
       "       [340],\n",
       "       [345],\n",
       "       [312],\n",
       "       [306],\n",
       "       [330],\n",
       "       [324],\n",
       "       [300],\n",
       "       [311],\n",
       "       [310],\n",
       "       [325],\n",
       "       [320],\n",
       "       [322],\n",
       "       [330],\n",
       "       [320],\n",
       "       [325],\n",
       "       [312],\n",
       "       [330],\n",
       "       [325],\n",
       "       [350]], dtype=int64)"
      ]
     },
     "execution_count": 30,
     "metadata": {},
     "output_type": "execute_result"
    }
   ],
   "source": [
    "y"
   ]
  },
  {
   "cell_type": "code",
   "execution_count": 31,
   "metadata": {},
   "outputs": [
    {
     "name": "stderr",
     "output_type": "stream",
     "text": [
      "C:\\ProgramData\\Anaconda3\\lib\\site-packages\\sklearn\\utils\\validation.py:595: DataConversionWarning: Data with input dtype int64 was converted to float64 by StandardScaler.\n",
      "  warnings.warn(msg, DataConversionWarning)\n"
     ]
    },
    {
     "data": {
      "text/plain": [
       "array([[-2.29386923],\n",
       "       [-1.97756073],\n",
       "       [-0.77558844],\n",
       "       [ 0.86921575],\n",
       "       [-0.64906504],\n",
       "       [-0.26949484],\n",
       "       [-0.07970974],\n",
       "       [-0.07970974],\n",
       "       [ 0.80595405],\n",
       "       [ 1.12226255],\n",
       "       [ 0.17333706],\n",
       "       [-0.83885014],\n",
       "       [-0.14297144],\n",
       "       [ 0.67943065],\n",
       "       [-0.45927994],\n",
       "       [-0.33275654],\n",
       "       [-0.45927994],\n",
       "       [-0.52254164],\n",
       "       [-1.53472883],\n",
       "       [-1.59799053],\n",
       "       [-0.20623314],\n",
       "       [-0.90211184],\n",
       "       [-2.42039263],\n",
       "       [-0.64906504],\n",
       "       [-0.39601824],\n",
       "       [-0.33275654],\n",
       "       [-1.72451393],\n",
       "       [-0.14297144],\n",
       "       [ 0.23659876],\n",
       "       [-0.45927994],\n",
       "       [ 0.67943065],\n",
       "       [ 1.62835615],\n",
       "       [ 1.50183275],\n",
       "       [ 0.67943065],\n",
       "       [ 0.04681366],\n",
       "       [ 0.74269235],\n",
       "       [-0.07970974],\n",
       "       [-0.39601824],\n",
       "       [ 1.62835615],\n",
       "       [-0.26949484],\n",
       "       [ 1.18552425],\n",
       "       [ 0.86921575],\n",
       "       [ 0.36312216],\n",
       "       [ 1.18552425],\n",
       "       [ 0.80595405],\n",
       "       [ 1.24878595],\n",
       "       [ 0.42638386],\n",
       "       [ 0.29986046],\n",
       "       [ 1.24878595],\n",
       "       [ 1.56509445]])"
      ]
     },
     "execution_count": 31,
     "metadata": {},
     "output_type": "execute_result"
    }
   ],
   "source": [
    "from sklearn import preprocessing\n",
    "x=preprocessing.StandardScaler().fit(x).transform(x.astype(float))\n",
    "x"
   ]
  },
  {
   "cell_type": "code",
   "execution_count": 32,
   "metadata": {},
   "outputs": [],
   "source": [
    "from sklearn.model_selection import train_test_split\n",
    "x_train,x_test,y_train,y_test=train_test_split(x,y,test_size=0.1)"
   ]
  },
  {
   "cell_type": "code",
   "execution_count": 33,
   "metadata": {},
   "outputs": [
    {
     "data": {
      "text/plain": [
       "LinearRegression(copy_X=True, fit_intercept=True, n_jobs=None,\n",
       "         normalize=False)"
      ]
     },
     "execution_count": 33,
     "metadata": {},
     "output_type": "execute_result"
    }
   ],
   "source": [
    "from sklearn import linear_model as lm\n",
    "model=lm.LinearRegression()\n",
    "results=model.fit(x,y)\n",
    "results"
   ]
  },
  {
   "cell_type": "code",
   "execution_count": 34,
   "metadata": {},
   "outputs": [
    {
     "name": "stdout",
     "output_type": "stream",
     "text": [
      "accuracy is : 0.5873588417080013\n"
     ]
    }
   ],
   "source": [
    "predictions=model.predict(x)\n",
    "accuracy=model.score(x,y)\n",
    "print(\"accuracy is :\",accuracy)"
   ]
  },
  {
   "cell_type": "code",
   "execution_count": 39,
   "metadata": {},
   "outputs": [
    {
     "data": {
      "text/plain": [
       "(50, 1)"
      ]
     },
     "execution_count": 39,
     "metadata": {},
     "output_type": "execute_result"
    }
   ],
   "source": [
    "predictions.shape"
   ]
  },
  {
   "cell_type": "code",
   "execution_count": 35,
   "metadata": {
    "scrolled": true
   },
   "outputs": [
    {
     "data": {
      "text/plain": [
       "(45, 1)"
      ]
     },
     "execution_count": 35,
     "metadata": {},
     "output_type": "execute_result"
    }
   ],
   "source": [
    "x_train.shape"
   ]
  },
  {
   "cell_type": "code",
   "execution_count": 36,
   "metadata": {},
   "outputs": [
    {
     "data": {
      "text/plain": [
       "(5, 1)"
      ]
     },
     "execution_count": 36,
     "metadata": {},
     "output_type": "execute_result"
    }
   ],
   "source": [
    "x_test.shape"
   ]
  },
  {
   "cell_type": "code",
   "execution_count": 37,
   "metadata": {},
   "outputs": [
    {
     "data": {
      "text/plain": [
       "<matplotlib.collections.PathCollection at 0x1f8afde5b38>"
      ]
     },
     "execution_count": 37,
     "metadata": {},
     "output_type": "execute_result"
    },
    {
     "data": {
      "image/png": "[encoded data removed]",
      "text/plain": [
       "<Figure size 432x288 with 1 Axes>"
      ]
     },
     "metadata": {
      "needs_background": "light"
     },
     "output_type": "display_data"
    }
   ],
   "source": [
    "import matplotlib.pyplot as plt\n",
    "plt.scatter(y,predictions)"
   ]
  },
  {
   "cell_type": "code",
   "execution_count": 38,
   "metadata": {},
   "outputs": [
    {
     "data": {
      "text/plain": [
       "(50, 1)"
      ]
     },
     "execution_count": 38,
     "metadata": {},
     "output_type": "execute_result"
    }
   ],
   "source": [
    "predictions.shape"
   ]
  },
  {
   "cell_type": "code",
   "execution_count": 42,
   "metadata": {},
   "outputs": [
    {
     "data": {
      "text/plain": [
       "array([[285.9856967 ],\n",
       "       [289.82109429],\n",
       "       [304.39560512],\n",
       "       [324.33967257],\n",
       "       [305.92976415],\n",
       "       [310.53224126],\n",
       "       [312.83347981],\n",
       "       [312.83347981],\n",
       "       [323.57259305],\n",
       "       [327.40799064],\n",
       "       [315.90179788],\n",
       "       [303.6285256 ],\n",
       "       [312.06640029],\n",
       "       [322.03843402],\n",
       "       [308.2310027 ],\n",
       "       [309.76516174],\n",
       "       [308.2310027 ],\n",
       "       [307.46392319],\n",
       "       [295.19065091],\n",
       "       [294.42357139],\n",
       "       [311.29932077],\n",
       "       [302.86144608],\n",
       "       [284.45153766],\n",
       "       [305.92976415],\n",
       "       [308.99808222],\n",
       "       [309.76516174],\n",
       "       [292.88941236],\n",
       "       [312.06640029],\n",
       "       [316.6688774 ],\n",
       "       [308.2310027 ],\n",
       "       [322.03843402],\n",
       "       [333.54462678],\n",
       "       [332.01046774],\n",
       "       [322.03843402],\n",
       "       [314.36763884],\n",
       "       [322.80551353],\n",
       "       [312.83347981],\n",
       "       [308.99808222],\n",
       "       [333.54462678],\n",
       "       [310.53224126],\n",
       "       [328.17507016],\n",
       "       [324.33967257],\n",
       "       [318.20303643],\n",
       "       [328.17507016],\n",
       "       [323.57259305],\n",
       "       [328.94214967],\n",
       "       [318.97011595],\n",
       "       [317.43595691],\n",
       "       [328.94214967],\n",
       "       [332.77754726]])"
      ]
     },
     "execution_count": 42,
     "metadata": {},
     "output_type": "execute_result"
    }
   ],
   "source": [
    "predictions"
   ]
  },
  {
   "cell_type": "code",
   "execution_count": 38,
   "metadata": {},
   "outputs": [
    {
     "name": "stdout",
     "output_type": "stream",
     "text": [
      "intercept: [313.8]\n",
      "slope: [[12.1254965]]\n"
     ]
    }
   ],
   "source": [
    "from sklearn.metrics import mean_squared_error,r2_score\n",
    "print('intercept:',model.intercept_)\n",
    "print('slope:',model.coef_)"
   ]
  },
  {
   "cell_type": "code",
   "execution_count": 39,
   "metadata": {},
   "outputs": [],
   "source": [
    "import numpy as np\n",
    "rmse=(np.sqrt(mean_squared_error(y,predictions)))\n",
    "r2=r2_score(y,predictions)"
   ]
  },
  {
   "cell_type": "code",
   "execution_count": 40,
   "metadata": {},
   "outputs": [
    {
     "name": "stdout",
     "output_type": "stream",
     "text": [
      "model performance\n",
      "---------------------------\n",
      "RMSE is 10.163283659509515\n",
      "r2 score is0.5873588417080013\n"
     ]
    }
   ],
   "source": [
    "print(\"model performance\")\n",
    "print(\"---------------------------\")\n",
    "print(\"RMSE is {}\".format(rmse))\n",
    "print('r2 score is{}'.format(r2))"
   ]
  },
  {
   "cell_type": "markdown",
   "metadata": {},
   "source": [
    "# multi linear"
   ]
  },
  {
   "cell_type": "code",
   "execution_count": 49,
   "metadata": {},
   "outputs": [],
   "source": [
    "x=d1[[\"ac\",\"refrigerator\"]].values\n",
    "y=d1[[\"festival consumption\"]].values"
   ]
  },
  {
   "cell_type": "code",
   "execution_count": 50,
   "metadata": {},
   "outputs": [
    {
     "data": {
      "text/plain": [
       "array([[100, 109],\n",
       "       [101, 102],\n",
       "       [104, 116],\n",
       "       [115, 111],\n",
       "       [102, 112],\n",
       "       [ 98, 115],\n",
       "       [110, 109],\n",
       "       [118, 119],\n",
       "       [112, 118],\n",
       "       [114, 120],\n",
       "       [111, 100],\n",
       "       [109, 105],\n",
       "       [120, 114],\n",
       "       [119, 110],\n",
       "       [108, 115],\n",
       "       [120,  90],\n",
       "       [111,  96],\n",
       "       [101,  94],\n",
       "       [117,  92],\n",
       "       [116, 110],\n",
       "       [115, 115],\n",
       "       [ 99, 120],\n",
       "       [ 98,  96],\n",
       "       [101, 116],\n",
       "       [105, 106],\n",
       "       [112, 104],\n",
       "       [114, 103],\n",
       "       [115, 111],\n",
       "       [122, 115],\n",
       "       [115, 114],\n",
       "       [116, 116],\n",
       "       [119, 118],\n",
       "       [111, 117],\n",
       "       [105, 120],\n",
       "       [106, 124],\n",
       "       [114, 122],\n",
       "       [113,  98],\n",
       "       [107, 100],\n",
       "       [121, 115],\n",
       "       [125, 110],\n",
       "       [128, 112],\n",
       "       [103, 117],\n",
       "       [112, 119],\n",
       "       [130, 121],\n",
       "       [115, 120],\n",
       "       [114, 115],\n",
       "       [119, 110],\n",
       "       [120, 100],\n",
       "       [115, 115],\n",
       "       [115, 120]], dtype=int64)"
      ]
     },
     "execution_count": 50,
     "metadata": {},
     "output_type": "execute_result"
    }
   ],
   "source": [
    "x"
   ]
  },
  {
   "cell_type": "code",
   "execution_count": 51,
   "metadata": {},
   "outputs": [
    {
     "data": {
      "text/plain": [
       "array([[285],\n",
       "       [299],\n",
       "       [315],\n",
       "       [300],\n",
       "       [295],\n",
       "       [310],\n",
       "       [314],\n",
       "       [320],\n",
       "       [340],\n",
       "       [345],\n",
       "       [308],\n",
       "       [310],\n",
       "       [313],\n",
       "       [320],\n",
       "       [315],\n",
       "       [310],\n",
       "       [298],\n",
       "       [290],\n",
       "       [300],\n",
       "       [315],\n",
       "       [312],\n",
       "       [291],\n",
       "       [265],\n",
       "       [310],\n",
       "       [312],\n",
       "       [320],\n",
       "       [298],\n",
       "       [313],\n",
       "       [319],\n",
       "       [300],\n",
       "       [311],\n",
       "       [340],\n",
       "       [345],\n",
       "       [312],\n",
       "       [306],\n",
       "       [330],\n",
       "       [324],\n",
       "       [300],\n",
       "       [311],\n",
       "       [310],\n",
       "       [325],\n",
       "       [320],\n",
       "       [322],\n",
       "       [330],\n",
       "       [320],\n",
       "       [325],\n",
       "       [312],\n",
       "       [330],\n",
       "       [325],\n",
       "       [350]], dtype=int64)"
      ]
     },
     "execution_count": 51,
     "metadata": {},
     "output_type": "execute_result"
    }
   ],
   "source": [
    "y"
   ]
  },
  {
   "cell_type": "code",
   "execution_count": 52,
   "metadata": {},
   "outputs": [],
   "source": [
    "from sklearn.model_selection import train_test_split\n",
    "x_train,x_test,y_train,y_test=train_test_split(x,y,test_size=0.2,random_state=1)"
   ]
  },
  {
   "cell_type": "code",
   "execution_count": 53,
   "metadata": {},
   "outputs": [
    {
     "data": {
      "text/html": [
       "<table class=\"simpletable\">\n",
       "<caption>OLS Regression Results</caption>\n",
       "<tr>\n",
       "  <th>Dep. Variable:</th>            <td>y</td>        <th>  R-squared:         </th> <td>   0.998</td> \n",
       "</tr>\n",
       "<tr>\n",
       "  <th>Model:</th>                   <td>OLS</td>       <th>  Adj. R-squared:    </th> <td>   0.998</td> \n",
       "</tr>\n",
       "<tr>\n",
       "  <th>Method:</th>             <td>Least Squares</td>  <th>  F-statistic:       </th> <td>1.325e+04</td>\n",
       "</tr>\n",
       "<tr>\n",
       "  <th>Date:</th>             <td>Tue, 04 Jun 2019</td> <th>  Prob (F-statistic):</th> <td>1.48e-66</td> \n",
       "</tr>\n",
       "<tr>\n",
       "  <th>Time:</th>                 <td>12:46:59</td>     <th>  Log-Likelihood:    </th> <td> -200.56</td> \n",
       "</tr>\n",
       "<tr>\n",
       "  <th>No. Observations:</th>      <td>    50</td>      <th>  AIC:               </th> <td>   405.1</td> \n",
       "</tr>\n",
       "<tr>\n",
       "  <th>Df Residuals:</th>          <td>    48</td>      <th>  BIC:               </th> <td>   408.9</td> \n",
       "</tr>\n",
       "<tr>\n",
       "  <th>Df Model:</th>              <td>     2</td>      <th>                     </th>     <td> </td>    \n",
       "</tr>\n",
       "<tr>\n",
       "  <th>Covariance Type:</th>      <td>nonrobust</td>    <th>                     </th>     <td> </td>    \n",
       "</tr>\n",
       "</table>\n",
       "<table class=\"simpletable\">\n",
       "<tr>\n",
       "   <td></td>     <th>coef</th>     <th>std err</th>      <th>t</th>      <th>P>|t|</th>  <th>[0.025</th>    <th>0.975]</th>  \n",
       "</tr>\n",
       "<tr>\n",
       "  <th>x1</th> <td>    1.5168</td> <td>    0.175</td> <td>    8.647</td> <td> 0.000</td> <td>    1.164</td> <td>    1.869</td>\n",
       "</tr>\n",
       "<tr>\n",
       "  <th>x2</th> <td>    1.2918</td> <td>    0.177</td> <td>    7.285</td> <td> 0.000</td> <td>    0.935</td> <td>    1.648</td>\n",
       "</tr>\n",
       "</table>\n",
       "<table class=\"simpletable\">\n",
       "<tr>\n",
       "  <th>Omnibus:</th>       <td> 6.598</td> <th>  Durbin-Watson:     </th> <td>   1.431</td>\n",
       "</tr>\n",
       "<tr>\n",
       "  <th>Prob(Omnibus):</th> <td> 0.037</td> <th>  Jarque-Bera (JB):  </th> <td>   2.314</td>\n",
       "</tr>\n",
       "<tr>\n",
       "  <th>Skew:</th>          <td> 0.003</td> <th>  Prob(JB):          </th> <td>   0.314</td>\n",
       "</tr>\n",
       "<tr>\n",
       "  <th>Kurtosis:</th>      <td> 1.946</td> <th>  Cond. No.          </th> <td>    20.4</td>\n",
       "</tr>\n",
       "</table><br/><br/>Warnings:<br/>[1] Standard Errors assume that the covariance matrix of the errors is correctly specified."
      ],
      "text/plain": [
       "<class 'statsmodels.iolib.summary.Summary'>\n",
       "\"\"\"\n",
       "                            OLS Regression Results                            \n",
       "==============================================================================\n",
       "Dep. Variable:                      y   R-squared:                       0.998\n",
       "Model:                            OLS   Adj. R-squared:                  0.998\n",
       "Method:                 Least Squares   F-statistic:                 1.325e+04\n",
       "Date:                Tue, 04 Jun 2019   Prob (F-statistic):           1.48e-66\n",
       "Time:                        12:46:59   Log-Likelihood:                -200.56\n",
       "No. Observations:                  50   AIC:                             405.1\n",
       "Df Residuals:                      48   BIC:                             408.9\n",
       "Df Model:                           2                                         \n",
       "Covariance Type:            nonrobust                                         \n",
       "==============================================================================\n",
       "                 coef    std err          t      P>|t|      [0.025      0.975]\n",
       "------------------------------------------------------------------------------\n",
       "x1             1.5168      0.175      8.647      0.000       1.164       1.869\n",
       "x2             1.2918      0.177      7.285      0.000       0.935       1.648\n",
       "==============================================================================\n",
       "Omnibus:                        6.598   Durbin-Watson:                   1.431\n",
       "Prob(Omnibus):                  0.037   Jarque-Bera (JB):                2.314\n",
       "Skew:                           0.003   Prob(JB):                        0.314\n",
       "Kurtosis:                       1.946   Cond. No.                         20.4\n",
       "==============================================================================\n",
       "\n",
       "Warnings:\n",
       "[1] Standard Errors assume that the covariance matrix of the errors is correctly specified.\n",
       "\"\"\""
      ]
     },
     "execution_count": 53,
     "metadata": {},
     "output_type": "execute_result"
    }
   ],
   "source": [
    "import statsmodels.api as sm\n",
    "model=sm.OLS(y,x).fit()\n",
    "#predictions=model.predict(x)\n",
    "model.summary()"
   ]
  },
  {
   "cell_type": "code",
   "execution_count": 54,
   "metadata": {},
   "outputs": [
    {
     "data": {
      "text/plain": [
       "array([292.4823623 , 284.95671698, 307.59194578, 317.8177291 ,\n",
       "       299.39126597, 297.19944384, 307.65023865, 332.70230109,\n",
       "       322.30979914, 327.92692668, 297.54104107, 300.96634647,\n",
       "       329.27699568, 322.59310351, 312.36732019, 298.27436844,\n",
       "       292.37393653, 274.6225079 , 296.3075578 , 318.0427406 ,\n",
       "       322.98483364, 305.17511215, 272.65569727, 303.04158288,\n",
       "       296.19097207, 304.22493325, 305.96673238, 317.8177291 ,\n",
       "       333.60234709, 321.69305751, 325.79339741, 332.92731259,\n",
       "       319.50123537, 314.27583796, 320.95973014, 330.51047895,\n",
       "       297.99106407, 291.47389053, 332.08555945, 331.69382932,\n",
       "       338.8277445 , 307.36693428, 323.60157527, 353.48730498,\n",
       "       329.44371432, 321.468046  , 322.59310351, 311.19212979,\n",
       "       322.98483364, 329.44371432])"
      ]
     },
     "execution_count": 54,
     "metadata": {},
     "output_type": "execute_result"
    }
   ],
   "source": [
    "predictions=model.predict(x)\n",
    "predictions"
   ]
  },
  {
   "cell_type": "code",
   "execution_count": 55,
   "metadata": {},
   "outputs": [
    {
     "data": {
      "text/plain": [
       "LinearRegression(copy_X=True, fit_intercept=True, n_jobs=None,\n",
       "         normalize=False)"
      ]
     },
     "execution_count": 55,
     "metadata": {},
     "output_type": "execute_result"
    }
   ],
   "source": [
    "from sklearn import linear_model as lm\n",
    "model=lm.LinearRegression()\n",
    "results=model.fit(x,y)\n",
    "results"
   ]
  },
  {
   "cell_type": "code",
   "execution_count": 56,
   "metadata": {},
   "outputs": [
    {
     "name": "stdout",
     "output_type": "stream",
     "text": [
      "accuracy is : 0.4426029895559809\n"
     ]
    }
   ],
   "source": [
    "predictions=model.predict(x)\n",
    "accuracy=model.score(x,y)\n",
    "print(\"accuracy is :\",accuracy)"
   ]
  },
  {
   "cell_type": "code",
   "execution_count": 57,
   "metadata": {},
   "outputs": [
    {
     "name": "stdout",
     "output_type": "stream",
     "text": [
      "intercept: [117.03064414]\n",
      "slope: [[0.92978801 0.83345782]]\n"
     ]
    }
   ],
   "source": [
    "from sklearn.metrics import mean_squared_error,r2_score\n",
    "print('intercept:',model.intercept_)\n",
    "print('slope:',model.coef_)"
   ]
  },
  {
   "cell_type": "code",
   "execution_count": 58,
   "metadata": {},
   "outputs": [],
   "source": [
    "import numpy as np\n",
    "rmse=(np.sqrt(mean_squared_error(y,predictions)))\n",
    "r2=r2_score(y,predictions)"
   ]
  },
  {
   "cell_type": "code",
   "execution_count": 59,
   "metadata": {},
   "outputs": [
    {
     "name": "stdout",
     "output_type": "stream",
     "text": [
      "model performance\n",
      "---------------------------\n",
      "RMSE is 11.812180986352473\n",
      "r2 score is0.4426029895559809\n"
     ]
    }
   ],
   "source": [
    "print(\"model performance\")\n",
    "print(\"---------------------------\")\n",
    "print(\"RMSE is {}\".format(rmse))\n",
    "print('r2 score is{}'.format(r2))"
   ]
  },
  {
   "cell_type": "code",
   "execution_count": null,
   "metadata": {},
   "outputs": [],
   "source": []
  }
 ],
 "metadata": {
  "kernelspec": {
   "display_name": "Python 3",
   "language": "python",
   "name": "python3"
  },
  "language_info": {
   "codemirror_mode": {
    "name": "ipython",
    "version": 3
   },
   "file_extension": ".py",
   "mimetype": "text/x-python",
   "name": "python",
   "nbconvert_exporter": "python",
   "pygments_lexer": "ipython3",
   "version": "3.7.1"
  }
 },
 "nbformat": 4,
 "nbformat_minor": 2
}
